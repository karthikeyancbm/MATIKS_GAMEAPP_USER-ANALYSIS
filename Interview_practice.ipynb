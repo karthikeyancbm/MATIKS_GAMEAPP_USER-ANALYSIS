{
 "cells": [
  {
   "cell_type": "code",
   "execution_count": 1,
   "id": "4912d264-bf07-4d1b-a352-bf4fa93d1576",
   "metadata": {},
   "outputs": [
    {
     "data": {
      "text/plain": [
       "'world hello'"
      ]
     },
     "execution_count": 1,
     "metadata": {},
     "output_type": "execute_result"
    }
   ],
   "source": [
    "str = \"  hello world  \"\n",
    "a = str.strip()\n",
    "b = a.split()\n",
    "\" \".join(b[::-1])"
   ]
  },
  {
   "cell_type": "code",
   "execution_count": 2,
   "id": "cfd608ed-9cd3-4540-b4c0-081baaa385d6",
   "metadata": {},
   "outputs": [
    {
     "name": "stdout",
     "output_type": "stream",
     "text": [
      " DataCampBlackFridaySale\n"
     ]
    }
   ],
   "source": [
    "## How can you replace string space with a given character in Python?\n",
    "wrd = 'D t C mpBl ckFrid yS le'\n",
    "chr = 'a'\n",
    "result = ' '\n",
    "for i in range(0,len(wrd)):\n",
    "    if wrd[i] == ' ':\n",
    "        result = result+chr\n",
    "    else:\n",
    "        result = result+wrd[i]\n",
    "print(result)"
   ]
  },
  {
   "cell_type": "code",
   "execution_count": 3,
   "id": "33c0f872-75d4-4846-b78e-f1f7cd70dfb2",
   "metadata": {},
   "outputs": [],
   "source": [
    "def str_replace(wrd,a):\n",
    "    result = ' '\n",
    "    for i in range(0,len(wrd)):\n",
    "        if wrd[i] == ' ':\n",
    "            result = result+chr\n",
    "        else:\n",
    "            result = result+wrd[i]\n",
    "    return result.strip()\n",
    "    \n",
    "    "
   ]
  },
  {
   "cell_type": "code",
   "execution_count": 4,
   "id": "1f8065b8-efad-4288-a28f-e26c4193df64",
   "metadata": {},
   "outputs": [
    {
     "data": {
      "text/plain": [
       "'DataCampBlackFridaySale'"
      ]
     },
     "execution_count": 4,
     "metadata": {},
     "output_type": "execute_result"
    }
   ],
   "source": [
    "str_replace(wrd,a)"
   ]
  },
  {
   "cell_type": "code",
   "execution_count": 5,
   "id": "38918def-b1c7-4245-a5f3-732263b12c8c",
   "metadata": {},
   "outputs": [
    {
     "name": "stdout",
     "output_type": "stream",
     "text": [
      "Not a Square\n"
     ]
    }
   ],
   "source": [
    "#Given a positive integer num, write a function that returns True if num is a perfect square else False.\n",
    "import math\n",
    "n = 18\n",
    "a = math.isqrt(n)\n",
    "b = a*a\n",
    "if n == b:\n",
    "    print('Perfect Square')\n",
    "else:\n",
    "    print('Not a Square')"
   ]
  },
  {
   "cell_type": "code",
   "execution_count": 6,
   "id": "49979490-ff7f-49e1-9ac1-3a929b8f9df5",
   "metadata": {},
   "outputs": [],
   "source": [
    "def perfect_square(n):\n",
    "    a = math.isqrt(n)\n",
    "    b = a*a\n",
    "    if n == b:\n",
    "        return 'Perfect Square'\n",
    "    else:\n",
    "        return 'Not a Square'\n",
    "    "
   ]
  },
  {
   "cell_type": "code",
   "execution_count": 7,
   "id": "94386d52-19c8-419c-ab0a-2708ad4499d0",
   "metadata": {},
   "outputs": [
    {
     "data": {
      "text/plain": [
       "'Not a Square'"
      ]
     },
     "execution_count": 7,
     "metadata": {},
     "output_type": "execute_result"
    }
   ],
   "source": [
    "perfect_square(42)"
   ]
  },
  {
   "cell_type": "code",
   "execution_count": 8,
   "id": "13a0b924-8c91-41b1-8a50-1ce9a8b2593b",
   "metadata": {},
   "outputs": [
    {
     "name": "stdout",
     "output_type": "stream",
     "text": [
      "True\n"
     ]
    }
   ],
   "source": [
    "#Can the String Be Split into Dictionary Words?\n",
    "s = \"datacamp\"\n",
    "d = [\"data\", \"camp\", \"lack\"]  # Removed \"cam\"\n",
    "x = len(s)\n",
    "temp = \"\"\n",
    "i = 0\n",
    "\n",
    "while i < x:\n",
    "    temp = temp + s[i]\n",
    "    if temp in d:\n",
    "        temp = \"\"\n",
    "    i += 1\n",
    "\n",
    "if temp == \"\":\n",
    "    print('True')\n",
    "else:\n",
    "    print('No')\n"
   ]
  },
  {
   "cell_type": "code",
   "execution_count": 9,
   "id": "36c54cf4-6111-449e-aabc-528d81b09ba6",
   "metadata": {},
   "outputs": [
    {
     "name": "stdout",
     "output_type": "stream",
     "text": [
      "3\n"
     ]
    }
   ],
   "source": [
    "#Can you remove duplicates from a sorted array?\n",
    "lst =[1,1,2,3,3]\n",
    "new_lst = []\n",
    "dcry = dict.fromkeys(lst)\n",
    "for k,v in dcry.items():\n",
    "    new_lst.append(k)\n",
    "print(len(new_lst))\n"
   ]
  },
  {
   "cell_type": "code",
   "execution_count": 10,
   "id": "3abd971c-4f27-46db-aa9f-5bf03efcb08c",
   "metadata": {},
   "outputs": [],
   "source": [
    "def remove_duplicates(x):\n",
    "    new_lst = []\n",
    "    dcry = dict.fromkeys(x)\n",
    "    for k,v in dcry.items():\n",
    "        new_lst.append(k)\n",
    "    return new_lst\n",
    "    "
   ]
  },
  {
   "cell_type": "code",
   "execution_count": 11,
   "id": "26fa638d-b759-407c-a202-201e13cf0390",
   "metadata": {},
   "outputs": [
    {
     "data": {
      "text/plain": [
       "[1, 2, 3, 4]"
      ]
     },
     "execution_count": 11,
     "metadata": {},
     "output_type": "execute_result"
    }
   ],
   "source": [
    "x = [1,1,2,2,2,3,3,4,4]\n",
    "remove_duplicates(x)"
   ]
  },
  {
   "cell_type": "code",
   "execution_count": 12,
   "id": "48d39850-2bd4-4d64-9740-42dc8055c121",
   "metadata": {},
   "outputs": [
    {
     "name": "stdout",
     "output_type": "stream",
     "text": [
      "[1, 2, 3, 4]\n"
     ]
    }
   ],
   "source": [
    "x = [1,1,2,2,2,3,3,4,4]\n",
    "y_list = []\n",
    "for i in range(len(x)):\n",
    "    if i == 0 or x[i] != x[i-1]:\n",
    "        y_list.append(x[i])\n",
    "print(y_list)\n",
    "    "
   ]
  },
  {
   "cell_type": "code",
   "execution_count": 16,
   "id": "afffbea2-d9d1-4d95-b518-07bdf2359aae",
   "metadata": {},
   "outputs": [
    {
     "name": "stdout",
     "output_type": "stream",
     "text": [
      "[7]\n"
     ]
    }
   ],
   "source": [
    "#Can you find the missing number in the array?\n",
    "lst = [1,2,3,4,5,6,8]\n",
    "lst.sort()\n",
    "min_val = min(lst)\n",
    "max_val = max(lst)\n",
    "missing_lst = []\n",
    "exp_lst = [i for i in range(min_val,max_val+1)]\n",
    "for i in exp_lst:\n",
    "    if i not in lst:\n",
    "        missing_lst.append(i)\n",
    "print(missing_lst)\n",
    "    "
   ]
  },
  {
   "cell_type": "code",
   "execution_count": 17,
   "id": "f15d4250-739e-4804-a722-313871d24be4",
   "metadata": {},
   "outputs": [],
   "source": [
    "def missing_value(lst):\n",
    "    lst.sort()\n",
    "    min_val = min(lst)\n",
    "    max_val = max(lst)\n",
    "    missing_lst = []\n",
    "    exp_lst = [i for i in range(min_val,max_val+1)]\n",
    "    for i in exp_lst:\n",
    "        if i not in lst:\n",
    "            missing_lst.append(i)\n",
    "    return missing_lst"
   ]
  },
  {
   "cell_type": "code",
   "execution_count": 19,
   "id": "b4d19094-ee66-42ca-8f86-9a0275c9ed57",
   "metadata": {},
   "outputs": [
    {
     "data": {
      "text/plain": [
       "[3, 6, 8, 9]"
      ]
     },
     "execution_count": 19,
     "metadata": {},
     "output_type": "execute_result"
    }
   ],
   "source": [
    "lst = [4, 1, 7, 2, 10, 5]\n",
    "missing_value(lst)"
   ]
  },
  {
   "cell_type": "code",
   "execution_count": 25,
   "id": "4e837a87-232d-46f4-bd13-50317a1a1638",
   "metadata": {},
   "outputs": [
    {
     "name": "stdout",
     "output_type": "stream",
     "text": [
      "Palindrome\n"
     ]
    }
   ],
   "source": [
    "# Write a Python function to determine if a given string is a palindrome.\n",
    "s = \"A man, a plan, a canal: Panama\"\n",
    "new_str = \"\"\n",
    "for i in s:\n",
    "    if i.isalnum():\n",
    "        new_str = new_str+(i.lower())\n",
    "rev_str = new_str[::-1]\n",
    "if new_str == rev_str:\n",
    "    print('Palindrome')\n",
    "else:\n",
    "    print('Not a Palaindrome')"
   ]
  },
  {
   "cell_type": "code",
   "execution_count": 26,
   "id": "2bf66ed4-0e0a-4ca2-aa1c-17c9024bb51d",
   "metadata": {},
   "outputs": [
    {
     "name": "stdout",
     "output_type": "stream",
     "text": [
      "Not a Palaindrome\n"
     ]
    }
   ],
   "source": [
    "s = \"hello\"\n",
    "new_str = \"\"\n",
    "for i in s:\n",
    "    if i.isalnum():\n",
    "        new_str = new_str+(i.lower())\n",
    "rev_str = new_str[::-1]\n",
    "if new_str == rev_str:\n",
    "    print('Palindrome')\n",
    "else:\n",
    "    print('Not a Palaindrome')"
   ]
  },
  {
   "cell_type": "code",
   "execution_count": 68,
   "id": "7f35f260-b52a-45da-88be-6523ec760227",
   "metadata": {},
   "outputs": [
    {
     "name": "stdout",
     "output_type": "stream",
     "text": [
      "6\n",
      "arr1_max_index : 6\n",
      "arr2_max_index : 8\n"
     ]
    }
   ],
   "source": [
    "arr1 = [20, 70, 40, 50, 12, 38, 98]\n",
    "arr2 = [10, 3, 2, 4, 5, 6, 7, 8, 18, 0]\n",
    "arr_1_max = max(arr1)\n",
    "arr_2_max = max(arr2)\n",
    "for i in arr1:\n",
    "    if i == arr_1_max:\n",
    "        print(arr1.index(i))\n",
    "for i,col in enumerate(arr1):\n",
    "    if col == arr_1_max:\n",
    "        print(f\"arr1_max_index : {i}\")\n",
    "for i,col in enumerate(arr2):\n",
    "    if col == arr_2_max:\n",
    "        print(f\"arr2_max_index : {i}\")\n",
    "\n"
   ]
  },
  {
   "cell_type": "code",
   "execution_count": 63,
   "id": "14a68656-ab53-47df-b475-544f93a4f9f8",
   "metadata": {},
   "outputs": [
    {
     "name": "stdout",
     "output_type": "stream",
     "text": [
      "[0, 0, 0, 0, 0, 0]\n",
      "[1, 1, 2, 2, 3, 4]\n",
      "5\n"
     ]
    }
   ],
   "source": [
    "#How many ways can you make change with coins and a total amount?\n",
    "denom = [1,2,5]\n",
    "amount = 5\n",
    "solution = [0]*(amount+1)\n",
    "print(solution)\n",
    "solution[0] = 1\n",
    "for den in denom:\n",
    "    for i in range(den,amount+1):\n",
    "        solution[i] = solution[i]+solution[i-den]\n",
    "print(solution)\n",
    "print(len(solution)-1)\n",
    "\n",
    "\n"
   ]
  },
  {
   "cell_type": "code",
   "execution_count": 17,
   "id": "b90126a6-eecf-456d-a22c-d31dbf2c1d06",
   "metadata": {},
   "outputs": [
    {
     "name": "stdout",
     "output_type": "stream",
     "text": [
      "ivug\n"
     ]
    }
   ],
   "source": [
    "# write a python function to reverse a string without using slicing or reverse function\n",
    "s = 'guvi'\n",
    "x = len(s)-1\n",
    "r = ''\n",
    "while x>=0:\n",
    "    r = r + s[x]\n",
    "    x = x - 1\n",
    "print(r)"
   ]
  },
  {
   "cell_type": "code",
   "execution_count": 30,
   "id": "aeda6d1d-157f-4d9b-894a-12e61ceb887a",
   "metadata": {},
   "outputs": [
    {
     "name": "stdout",
     "output_type": "stream",
     "text": [
      "ivug\n"
     ]
    }
   ],
   "source": [
    "s='guvi'\n",
    "r = ''\n",
    "for i in s:\n",
    "    r = i+r\n",
    "print(r)"
   ]
  },
  {
   "cell_type": "code",
   "execution_count": 27,
   "id": "d79d2f64-754a-473b-9cde-1188ca588cb0",
   "metadata": {},
   "outputs": [
    {
     "name": "stdout",
     "output_type": "stream",
     "text": [
      "oaaaiee\n"
     ]
    }
   ],
   "source": [
    "# delete all consonants from given string\n",
    "str = 'Python and Datascience'\n",
    "str = str.replace(\" \",\"\")\n",
    "v = ['a','e','i','o','u']\n",
    "s = ''\n",
    "for i in str:\n",
    "    if i in v:\n",
    "        s = s + i\n",
    "print(s)\n",
    "    \n"
   ]
  },
  {
   "cell_type": "code",
   "execution_count": 55,
   "id": "a4827995-8560-42e6-85b8-b413c808dc7a",
   "metadata": {},
   "outputs": [
    {
     "name": "stdout",
     "output_type": "stream",
     "text": [
      "11 Prime number\n"
     ]
    }
   ],
   "source": [
    "#write a program to get sum of all prime numbers between 1 and n\n",
    "num = 11\n",
    "\n",
    "if num <1:\n",
    "    print(num,'Not a prime number')\n",
    "else:\n",
    "    for i in range(2,num):\n",
    "        if num%i == 0:\n",
    "            print(num,'Not a Prime number')\n",
    "            break\n",
    "    else:\n",
    "        print(num,'Prime number')"
   ]
  },
  {
   "cell_type": "code",
   "execution_count": 88,
   "id": "d17fc1b1-d99a-4487-8718-c631e36ffcf0",
   "metadata": {},
   "outputs": [
    {
     "name": "stdout",
     "output_type": "stream",
     "text": [
      "[1, 2, 4]\n",
      "Not a prime number\n"
     ]
    }
   ],
   "source": [
    "# program to find a number is prime or not\n",
    "n = 4\n",
    "div_lst = []\n",
    "for i in range(1,n+1):\n",
    "    if n%i == 0:\n",
    "        div_lst.append(i)\n",
    "print(div_lst)\n",
    "if len(div_lst) > 2:\n",
    "    print('Not a prime number')\n",
    "else:\n",
    "    print('Prime number')\n",
    "        "
   ]
  },
  {
   "cell_type": "code",
   "execution_count": 109,
   "id": "b585e1f0-57e0-4c9e-9221-e2356360bc41",
   "metadata": {},
   "outputs": [
    {
     "name": "stdout",
     "output_type": "stream",
     "text": [
      "[2, 3, 5, 7]\n",
      "17\n"
     ]
    }
   ],
   "source": [
    "prime_lst = []\n",
    "number = 10\n",
    "for i in range(2,number):\n",
    "    n = i\n",
    "    div_lst = []\n",
    "    for i in range(1,n+1):\n",
    "        if n%i == 0:\n",
    "            div_lst.append(i)\n",
    "    #print(n,div_lst)\n",
    "    if len(div_lst)==2:\n",
    "        prime_lst.append(n)\n",
    "print(prime_lst)\n",
    "total = 0\n",
    "for i in prime_lst:\n",
    "    total = total+i\n",
    "print(total)"
   ]
  },
  {
   "cell_type": "code",
   "execution_count": 96,
   "id": "0158dd51-a041-4413-87e2-6ecb7e38a8b1",
   "metadata": {},
   "outputs": [],
   "source": [
    "def prime_num(num):\n",
    "    for z in range(2,num):\n",
    "        if num%z == 0:\n",
    "            return False\n",
    "    return True"
   ]
  },
  {
   "cell_type": "code",
   "execution_count": 97,
   "id": "5a2b1b15-8e5f-49ef-af0f-05bf6d751bdd",
   "metadata": {},
   "outputs": [],
   "source": [
    "def add_num(num):\n",
    "    total = 0\n",
    "    for z in range(2,num+1):\n",
    "        if prime_num(z):\n",
    "            total = total + z\n",
    "    return total"
   ]
  },
  {
   "cell_type": "code",
   "execution_count": 98,
   "id": "24232526-0466-4e87-872f-dc4d9421d83d",
   "metadata": {},
   "outputs": [
    {
     "data": {
      "text/plain": [
       "17"
      ]
     },
     "execution_count": 98,
     "metadata": {},
     "output_type": "execute_result"
    }
   ],
   "source": [
    "add_num(num=10)"
   ]
  },
  {
   "cell_type": "code",
   "execution_count": 140,
   "id": "ee45ac79-bc15-4c67-a577-85356d8c61e5",
   "metadata": {},
   "outputs": [
    {
     "name": "stdout",
     "output_type": "stream",
     "text": [
      "Prime\n"
     ]
    }
   ],
   "source": [
    "n = 11\n",
    "divisor_lst = []\n",
    "for i in range(1,n+1):\n",
    "    if n%i == 0:\n",
    "        divisor_lst.append(i)\n",
    "if len(divisor_lst)>2:\n",
    "    print('Not a prime')\n",
    "else:\n",
    "    print('Prime')"
   ]
  },
  {
   "cell_type": "code",
   "execution_count": 132,
   "id": "da8a69a8-6e42-428c-b85d-fab708053dec",
   "metadata": {},
   "outputs": [
    {
     "name": "stdout",
     "output_type": "stream",
     "text": [
      "[2, 3, 5, 7, 11, 13, 17, 19, 23, 29]\n"
     ]
    }
   ],
   "source": [
    "# Find a prime numbers exists in the range\n",
    "num = 30\n",
    "p_lst = []\n",
    "for i in range(1,num):\n",
    "    n = i \n",
    "    d_lst = []\n",
    "    for i in range(1,n+1):\n",
    "        if n%i ==0:\n",
    "            d_lst.append(i)\n",
    "    if len(d_lst) == 2:\n",
    "        p_lst.append(i)\n",
    "print(p_lst)\n",
    "            \n",
    "            "
   ]
  },
  {
   "cell_type": "code",
   "execution_count": 149,
   "id": "a32e412d-4b97-4ef6-8aa1-1e891bf9a881",
   "metadata": {},
   "outputs": [
    {
     "name": "stdout",
     "output_type": "stream",
     "text": [
      "[1, 2, 3, 4, 6, 8, 9, 12, 16, 18, 24, 36, 48, 72, 144]\n",
      "Not a Prime\n"
     ]
    }
   ],
   "source": [
    "n = 144\n",
    "d_lst = []\n",
    "for i in range(1,n+1):\n",
    "    if n%i == 0:\n",
    "        d_lst.append(i)\n",
    "print(d_lst)\n",
    "if len(d_lst) == 2:\n",
    "    print('Prime')\n",
    "else:\n",
    "    print('Not a Prime')\n",
    "        \n",
    "    "
   ]
  },
  {
   "cell_type": "code",
   "execution_count": 153,
   "id": "8f1e8240-7f99-4291-a374-b27572b26c8e",
   "metadata": {},
   "outputs": [
    {
     "name": "stdout",
     "output_type": "stream",
     "text": [
      "[2, 4, 6, 8, 10, 12, 14, 16, 18, 20]\n",
      "[2, 4, 6, 8, 10, 12, 14, 16, 18, 20]\n",
      "[2, 4, 6, 8, 10, 12, 14, 16, 18, 20]\n"
     ]
    }
   ],
   "source": [
    "my_list = []\n",
    "for i in range(1,11):\n",
    "    my_list.append(i)\n",
    "n_1 = [i*2 for i in my_list]\n",
    "n_2 = list(map(lambda x: x*2,my_list))\n",
    "n_3 =[]\n",
    "for i in my_list:\n",
    "    n_3.append(i*2)\n",
    "print(n_1)\n",
    "print(n_2)\n",
    "print(n_3)"
   ]
  },
  {
   "cell_type": "code",
   "execution_count": 20,
   "id": "0968cb52-1441-49e8-8487-d7d2761c7746",
   "metadata": {},
   "outputs": [
    {
     "name": "stdout",
     "output_type": "stream",
     "text": [
      "4\n"
     ]
    }
   ],
   "source": [
    "#How many vowels present in the string\n",
    "str = 'Oregano'\n",
    "vowels =['a','e','i','o','u']\n",
    "str = str.lower()\n",
    "count = 0\n",
    "for i in str:\n",
    "    if i in vowels:\n",
    "        count = count +1\n",
    "print(count)\n",
    "        \n"
   ]
  },
  {
   "cell_type": "code",
   "execution_count": 23,
   "id": "c38d30c9-f8ea-437a-addd-39d2661a5d42",
   "metadata": {},
   "outputs": [
    {
     "name": "stdout",
     "output_type": "stream",
     "text": [
      "onagero\n"
     ]
    }
   ],
   "source": [
    "rev = ''\n",
    "for i in str:\n",
    "    rev = i+rev\n",
    "print(rev)"
   ]
  },
  {
   "cell_type": "code",
   "execution_count": 51,
   "id": "27c31e0e-246c-424c-b2f9-ba9a3d95bbcf",
   "metadata": {},
   "outputs": [
    {
     "name": "stdout",
     "output_type": "stream",
     "text": [
      "onagero\n"
     ]
    }
   ],
   "source": [
    "s = 'oregano'\n",
    "x = len(s)-1\n",
    "r = ''\n",
    "while x>=0:\n",
    "    r = r + s[x]\n",
    "    x = x -1\n",
    "print(r)"
   ]
  },
  {
   "cell_type": "code",
   "execution_count": 86,
   "id": "595b63d6-ea31-4a39-a1f0-1074b9782385",
   "metadata": {},
   "outputs": [
    {
     "name": "stdout",
     "output_type": "stream",
     "text": [
      "[2, 4, 6, 10, 12, 25, 32, 45]\n"
     ]
    },
    {
     "data": {
      "text/plain": [
       "[45, 32, 25]"
      ]
     },
     "execution_count": 86,
     "metadata": {},
     "output_type": "execute_result"
    }
   ],
   "source": [
    "# Find three largest number wihtout using max function\n",
    "lst = [12,25,6,4,45,32,2,10]\n",
    "lst.sort()\n",
    "print(lst)\n",
    "mx = lst[::-1]\n",
    "mx[0:3]"
   ]
  },
  {
   "cell_type": "code",
   "execution_count": 87,
   "id": "e22c865f-7dc6-4d09-8712-23d7c07bf72d",
   "metadata": {},
   "outputs": [
    {
     "name": "stdout",
     "output_type": "stream",
     "text": [
      "5\n",
      "10\n"
     ]
    }
   ],
   "source": [
    "# Swap two variables without assigning third variable\n",
    "a = 10\n",
    "b = 5\n",
    "a,b = b,a\n",
    "print(a)\n",
    "print(b)"
   ]
  },
  {
   "cell_type": "code",
   "execution_count": 95,
   "id": "932b07a8-491d-4118-8402-3c56ab7615f7",
   "metadata": {},
   "outputs": [
    {
     "name": "stdout",
     "output_type": "stream",
     "text": [
      "Not a prime number\n"
     ]
    }
   ],
   "source": [
    "# check if the number is prime or not\n",
    "n = 16\n",
    "d_lst = []\n",
    "for i in range(1,n+1):\n",
    "    if n%i == 0:\n",
    "        d_lst.append(i)\n",
    "if len(d_lst) > 2:\n",
    "    print('Not a prime number')\n",
    "else:\n",
    "    print('Prime number')"
   ]
  },
  {
   "cell_type": "code",
   "execution_count": 99,
   "id": "0bfb6999-d990-4d4d-8313-bfa0aacf8c80",
   "metadata": {},
   "outputs": [
    {
     "name": "stdout",
     "output_type": "stream",
     "text": [
      "not a palindrome\n"
     ]
    }
   ],
   "source": [
    "s1 = 'karthi'\n",
    "s2 = s1[::-1]\n",
    "if s2 == s1:\n",
    "    print('palindrome')\n",
    "else:\n",
    "    print('not a palindrome')"
   ]
  },
  {
   "cell_type": "code",
   "execution_count": 101,
   "id": "bb7f4c4f-f232-4b65-97b5-6b3175fa585c",
   "metadata": {},
   "outputs": [
    {
     "name": "stdout",
     "output_type": "stream",
     "text": [
      "Not a palindrome\n"
     ]
    }
   ],
   "source": [
    "x1 = len(s1)-1\n",
    "t= ''\n",
    "while x1>=0:\n",
    "    t = t+s1[x1]\n",
    "    x1 = x1 - 1\n",
    "if s1 == t:\n",
    "    print('palindrome')\n",
    "else:\n",
    "    print('Not a palindrome')"
   ]
  },
  {
   "cell_type": "code",
   "execution_count": 109,
   "id": "f9b709b2-8e50-4df4-b86c-a4a85530d60a",
   "metadata": {},
   "outputs": [
    {
     "name": "stdout",
     "output_type": "stream",
     "text": [
      "0\n",
      "1\n",
      "2\n",
      "3\n",
      "4\n",
      "5\n",
      "6\n"
     ]
    }
   ],
   "source": [
    "mylist = [64, 34, 25, 12, 22, 11, 90, 5]\n",
    "n = len(mylist)\n",
    "for i in range(n-1):\n",
    "    print(i)"
   ]
  },
  {
   "cell_type": "code",
   "execution_count": 1,
   "id": "8e21d003-14bc-4818-b11a-da08143afa86",
   "metadata": {},
   "outputs": [
    {
     "name": "stdout",
     "output_type": "stream",
     "text": [
      "[5, 11, 12, 22, 25, 34, 64, 90]\n"
     ]
    }
   ],
   "source": [
    "# sort the list without using sort function,Using bubble sort method\n",
    "mylist = [64, 34, 25, 12, 22, 11, 90, 5]\n",
    "n = len(mylist)\n",
    "for i in range(n):\n",
    "    for j in range(n-i-1):\n",
    "        if mylist[j] > mylist[j+1]:\n",
    "            mylist[j],mylist[j+1] = mylist[j+1],mylist[j]\n",
    "print(mylist)\n",
    "        "
   ]
  },
  {
   "cell_type": "code",
   "execution_count": 137,
   "id": "b6994bbc-6604-4351-92b4-31be5f867bc6",
   "metadata": {},
   "outputs": [
    {
     "name": "stdout",
     "output_type": "stream",
     "text": [
      "kohli virat am i\n"
     ]
    }
   ],
   "source": [
    "s='i am virat kohli'\n",
    "s1 = s.split()\n",
    "print(\" \".join(s1[::-1]))\n"
   ]
  },
  {
   "cell_type": "code",
   "execution_count": 11,
   "id": "f0fef8e4-5663-426c-8a99-edab57d7d4aa",
   "metadata": {},
   "outputs": [
    {
     "name": "stdout",
     "output_type": "stream",
     "text": [
      "[1, 2, 4, 8, 16, 32, 64, 127, 254, 508, 1016, 2032, 4064]\n",
      "8128\n",
      "Perfect number\n"
     ]
    }
   ],
   "source": [
    "# Find out the given number is perfect number or not\n",
    "p_lst = []\n",
    "n = 8128\n",
    "for i in range(1,n):\n",
    "    if n%i == 0:\n",
    "        p_lst.append(i)\n",
    "print(p_lst)\n",
    "sum = 0\n",
    "for i in p_lst:\n",
    "    sum = sum +i\n",
    "print(sum)\n",
    "if sum == n:\n",
    "    print('Perfect number')\n",
    "else:\n",
    "    print('Not a perfect number')\n",
    "    "
   ]
  },
  {
   "cell_type": "code",
   "execution_count": 18,
   "id": "fa586be5-c9be-40b9-80ea-cfa0eed78064",
   "metadata": {},
   "outputs": [],
   "source": [
    "def perfect_number(n):\n",
    "    p_lst = []\n",
    "    for i in range(1,n):\n",
    "        if n%i == 0:\n",
    "            p_lst.append(i)\n",
    "    sum = 0\n",
    "    for i in p_lst:\n",
    "        sum = sum +i\n",
    "    if sum == n:\n",
    "        return f\" The given {n} is {'Perfect number'}\"\n",
    "    else:\n",
    "        return f\"The given {n} is {'Not a perfect number'}\""
   ]
  },
  {
   "cell_type": "code",
   "execution_count": 20,
   "id": "ba4c582b-806c-4b79-824e-34fd624e2632",
   "metadata": {},
   "outputs": [
    {
     "data": {
      "text/plain": [
       "'The given 8 is Not a perfect number'"
      ]
     },
     "execution_count": 20,
     "metadata": {},
     "output_type": "execute_result"
    }
   ],
   "source": [
    "perfect_number(8)"
   ]
  },
  {
   "cell_type": "code",
   "execution_count": 17,
   "id": "9cc4d37c-becf-4deb-b493-dd1177545fa4",
   "metadata": {},
   "outputs": [
    {
     "name": "stdout",
     "output_type": "stream",
     "text": [
      "[4, 4]\n"
     ]
    }
   ],
   "source": [
    "#  which two elements sum will give the given output 8?\n",
    "lst = [1,2,4,4,10]\n",
    "n = 8\n",
    "new_lst = []\n",
    "for i in lst:\n",
    "    if (n-i) in lst:\n",
    "        new_lst.append(i)\n",
    "print(new_lst)       \n"
   ]
  },
  {
   "cell_type": "code",
   "execution_count": 18,
   "id": "3c5c50fa-028b-4070-b4ee-f01755a41edd",
   "metadata": {},
   "outputs": [
    {
     "name": "stdout",
     "output_type": "stream",
     "text": [
      "[1, 9]\n"
     ]
    }
   ],
   "source": [
    "lst = [4, 7, 1, 9, 2]\n",
    "n = 10\n",
    "n_lst = []\n",
    "for i in lst:\n",
    "    if (n-i) in lst:\n",
    "        n_lst.append(i)\n",
    "print(n_lst)\n",
    "        "
   ]
  },
  {
   "cell_type": "code",
   "execution_count": 11,
   "id": "20b0c3c2-0153-4ecd-a44e-5d59e0a7601c",
   "metadata": {},
   "outputs": [
    {
     "name": "stdout",
     "output_type": "stream",
     "text": [
      "{1: 2, 2: 1, 3: 1, 4: 2, 5: 1, 6: 2, 7: 2}\n"
     ]
    }
   ],
   "source": [
    "# Find the count of each element in the list\n",
    "lst1 = [1,1,2,3,4,4,5,6,6,7,7]\n",
    "d = {}\n",
    "for i in lst1:\n",
    "    if i in d:\n",
    "        d[i] = d[i]+1\n",
    "    else:\n",
    "        d[i] = 1\n",
    "print(d)"
   ]
  },
  {
   "cell_type": "code",
   "execution_count": 22,
   "id": "f8e4ed41-17c4-4740-bfbc-0fc813ab884e",
   "metadata": {},
   "outputs": [
    {
     "name": "stdout",
     "output_type": "stream",
     "text": [
      "{'a': 2, 'b': 2, 'c': 5, 'd': 1, 'e': 1, 'f': 2, 'g': 5}\n"
     ]
    }
   ],
   "source": [
    "s = 'aabbcccccdeffggggg'\n",
    "dry = {}\n",
    "for i in range(len(s)):\n",
    "    if s[i]in dry:\n",
    "        dry[s[i]] = dry[s[i]]+1\n",
    "    else:\n",
    "        dry[s[i]] = 1\n",
    "print(dry)\n",
    "\n",
    "   "
   ]
  },
  {
   "cell_type": "code",
   "execution_count": 27,
   "id": "c85c4442-04c1-413c-ad4e-e7f131bf054b",
   "metadata": {},
   "outputs": [
    {
     "name": "stdout",
     "output_type": "stream",
     "text": [
      "kathi\n"
     ]
    }
   ],
   "source": [
    "#commont letters between two strings\n",
    "str1 = 'karthi'\n",
    "str2 = 'jaya sakthi'\n",
    "str3 = ''\n",
    "for i in str1:\n",
    "    if i in str2:\n",
    "        str3 = str3+i\n",
    "print(str3)\n",
    "    "
   ]
  },
  {
   "cell_type": "code",
   "execution_count": 29,
   "id": "2cca3241-e793-4662-a80a-45a4c16b9eca",
   "metadata": {},
   "outputs": [
    {
     "data": {
      "text/plain": [
       "{'John': 85, 'Alice': 90, 'Bob': 78, 'Lucy': 92}"
      ]
     },
     "execution_count": 29,
     "metadata": {},
     "output_type": "execute_result"
    }
   ],
   "source": [
    "# write a python program to convert two lists into dictionary\n",
    "names = ['John', 'Alice', 'Bob', 'Lucy']\n",
    "scores = [85, 90, 78, 92]\n",
    "res = zip(names,scores)\n",
    "dict(res)"
   ]
  },
  {
   "cell_type": "code",
   "execution_count": 1,
   "id": "2086d47d-3217-4191-b25c-ab9e2be8125c",
   "metadata": {},
   "outputs": [
    {
     "name": "stdout",
     "output_type": "stream",
     "text": [
      "[2, 1, 4, 5, 0]\n"
     ]
    }
   ],
   "source": [
    "lstitem = [2,1,0,4,5]\n",
    "for i in lstitem:\n",
    "    if i == 0:\n",
    "        lstitem.remove(i)\n",
    "        lstitem.append(i)\n",
    "print(lstitem)\n",
    "        "
   ]
  },
  {
   "cell_type": "code",
   "execution_count": 3,
   "id": "d629a90d-df18-4f81-a058-475f130bb766",
   "metadata": {},
   "outputs": [
    {
     "name": "stdout",
     "output_type": "stream",
     "text": [
      "[4, 5]\n"
     ]
    }
   ],
   "source": [
    "input_list_1 = [1, 2, 3, 4, 5]\n",
    "input_list_2 = [4, 5, 6, 7, 8]\n",
    "new_lst = []\n",
    "for i in input_list_1:\n",
    "    if i in input_list_2:\n",
    "        new_lst.append(i)\n",
    "print(new_lst)"
   ]
  },
  {
   "cell_type": "code",
   "execution_count": 5,
   "id": "441876b2-32c6-493c-aca0-cf377fdfed89",
   "metadata": {},
   "outputs": [
    {
     "data": {
      "text/plain": [
       "[4, 5]"
      ]
     },
     "execution_count": 5,
     "metadata": {},
     "output_type": "execute_result"
    }
   ],
   "source": [
    "new_lst_1 = [ i for i in input_list_1 if i in input_list_2 ]\n",
    "new_lst_1"
   ]
  },
  {
   "cell_type": "code",
   "execution_count": 7,
   "id": "cec6dfdc-e2ba-492b-91d0-2694c269f14e",
   "metadata": {},
   "outputs": [],
   "source": [
    "def get_common(input_list_1, input_list_2):\n",
    "    new_lst_1 = [ i for i in input_list_1 if i in input_list_2 ]\n",
    "    return new_lst_1\n",
    "    "
   ]
  },
  {
   "cell_type": "code",
   "execution_count": 8,
   "id": "7fff6d0d-d98b-4e5a-aca9-f223af4c2763",
   "metadata": {},
   "outputs": [
    {
     "data": {
      "text/plain": [
       "[4, 5]"
      ]
     },
     "execution_count": 8,
     "metadata": {},
     "output_type": "execute_result"
    }
   ],
   "source": [
    "get_common(input_list_1, input_list_2)"
   ]
  },
  {
   "cell_type": "code",
   "execution_count": 13,
   "id": "0eb1fc9d-d2e3-4ee8-aabf-ffdc96bcb7c2",
   "metadata": {},
   "outputs": [
    {
     "name": "stdout",
     "output_type": "stream",
     "text": [
      "42.666666666666664\n"
     ]
    }
   ],
   "source": [
    "lst_1 = [34, 21, 78, 96, 12, 15]\n",
    "sum = 0\n",
    "x = len(lst_1)\n",
    "for i in lst_1:\n",
    "    sum = sum+i\n",
    "average = sum/x\n",
    "print(average)\n"
   ]
  },
  {
   "cell_type": "code",
   "execution_count": 14,
   "id": "5fda1e73-19af-4fa0-ad3b-37786f05a9f9",
   "metadata": {},
   "outputs": [],
   "source": [
    "def get_average(input_list):\n",
    "    input_list = lst_1\n",
    "    sum = 0\n",
    "    x = len(lst_1)\n",
    "    for i in lst_1:\n",
    "        sum = sum+i\n",
    "    average = sum/x\n",
    "    return average\n",
    "    "
   ]
  },
  {
   "cell_type": "code",
   "execution_count": 16,
   "id": "168fde82-e05c-4b17-95e3-0a52e1976f37",
   "metadata": {},
   "outputs": [
    {
     "data": {
      "text/plain": [
       "42.666666666666664"
      ]
     },
     "execution_count": 16,
     "metadata": {},
     "output_type": "execute_result"
    }
   ],
   "source": [
    "get_average(lst_1)"
   ]
  },
  {
   "cell_type": "code",
   "execution_count": 21,
   "id": "74c4c534-9acc-4451-a8ed-b2709de59d11",
   "metadata": {},
   "outputs": [
    {
     "data": {
      "text/plain": [
       "['a', 'b', 'c', 'd', 'e', 'f']"
      ]
     },
     "execution_count": 21,
     "metadata": {},
     "output_type": "execute_result"
    }
   ],
   "source": [
    "str_lst = ['e', 'd', 'f', 'a', 'c', 'b']\n",
    "sorted(str_lst)"
   ]
  },
  {
   "cell_type": "code",
   "execution_count": 24,
   "id": "02252fb3-d2cc-403d-9906-8cded3e087f1",
   "metadata": {},
   "outputs": [
    {
     "data": {
      "text/plain": [
       "['a', 'b', 'c', 'd', 'e', 'f']"
      ]
     },
     "execution_count": 24,
     "metadata": {},
     "output_type": "execute_result"
    }
   ],
   "source": [
    "str_lst.sort()\n",
    "str_lst"
   ]
  },
  {
   "cell_type": "code",
   "execution_count": 28,
   "id": "332ea2f2-9c97-4ccb-b01e-5130d76a421b",
   "metadata": {},
   "outputs": [],
   "source": [
    "def sort_alphabets(str_lst):\n",
    "    return sorted(str_lst)"
   ]
  },
  {
   "cell_type": "code",
   "execution_count": 29,
   "id": "0d8c5cca-4dcf-41c0-a0d5-c4a8b4efb62f",
   "metadata": {},
   "outputs": [
    {
     "data": {
      "text/plain": [
       "['a', 'b', 'c', 'd', 'e', 'f']"
      ]
     },
     "execution_count": 29,
     "metadata": {},
     "output_type": "execute_result"
    }
   ],
   "source": [
    "sort_alphabets(str_lst)"
   ]
  },
  {
   "cell_type": "code",
   "execution_count": 34,
   "id": "586f7cbf-a462-4e96-a5bb-8a35e86c29ff",
   "metadata": {},
   "outputs": [
    {
     "name": "stdout",
     "output_type": "stream",
     "text": [
      "[2, 2, 5, 5]\n"
     ]
    }
   ],
   "source": [
    "lst_2 = ['af', 'jk', 'lpoil', 'ptyuh']\n",
    "lst_3 = []\n",
    "for i in lst_2:\n",
    "    lst_3.append(len(i))\n",
    "print(lst_3)\n",
    "    \n",
    "    "
   ]
  },
  {
   "cell_type": "code",
   "execution_count": 36,
   "id": "97aa429d-071d-4eb5-823f-d0f3cf4befb9",
   "metadata": {},
   "outputs": [
    {
     "data": {
      "text/plain": [
       "[2, 2, 5, 5]"
      ]
     },
     "execution_count": 36,
     "metadata": {},
     "output_type": "execute_result"
    }
   ],
   "source": [
    "list(map(lambda x : len(x),lst_2))"
   ]
  },
  {
   "cell_type": "code",
   "execution_count": 37,
   "id": "534b6702-4ce7-4db2-87a9-3781aeeffea7",
   "metadata": {},
   "outputs": [],
   "source": [
    "cs_books = ['Introduction to the Theory of Computation by Michael Sipser',\n",
    " 'Cracking the Coding Interview by Gayle Laakmann McDowell',\n",
    " 'Clean Code: A Handbook of Agile Software Craftsmanship by Robert C. Martin',\n",
    " 'The Pragmatic Programmer: Your Journey to Mastery by Andrew Hunt and David Thomas',\n",
    " 'Algorithms to Live By: The Computer Science of Human Decisions by Brian Christian and Tom Griffiths']"
   ]
  },
  {
   "cell_type": "code",
   "execution_count": 40,
   "id": "cb75ea1c-276a-4d2c-8257-4052be3dc122",
   "metadata": {},
   "outputs": [
    {
     "data": {
      "text/plain": [
       "['Introduction to the Theory of Computation by Michael Sipser',\n",
       " 'Cracking the Coding Interview by Gayle Laakmann McDowell',\n",
       " 'Clean Code: A Handbook of Agile Software Craftsmanship by Robert C. Martin',\n",
       " 'The Pragmatic Programmer: Your Journey to Mastery by Andrew Hunt and David Thomas',\n",
       " 'Algorithms to Live By: The Computer Science of Human Decisions by Brian Christian and Tom Griffiths']"
      ]
     },
     "execution_count": 40,
     "metadata": {},
     "output_type": "execute_result"
    }
   ],
   "source": [
    "cs_books"
   ]
  },
  {
   "cell_type": "code",
   "execution_count": 45,
   "id": "eef506e4-b59c-48a9-8a19-ae2b51bf3b08",
   "metadata": {},
   "outputs": [
    {
     "name": "stdout",
     "output_type": "stream",
     "text": [
      "5\n"
     ]
    }
   ],
   "source": [
    "lst_4 = list(dict.fromkeys(cs_books))\n",
    "print(len(lst_4))"
   ]
  },
  {
   "cell_type": "code",
   "execution_count": 49,
   "id": "3260e44a-d949-40fc-b0ee-81718cc574ee",
   "metadata": {},
   "outputs": [
    {
     "name": "stdout",
     "output_type": "stream",
     "text": [
      "['Introduction to the Theory of Computation by Michael Sipser', 'Cracking the Coding Interview by Gayle Laakmann McDowell', 'Clean Code: A Handbook of Agile Software Craftsmanship by Robert C. Martin', 'The Pragmatic Programmer: Your Journey to Mastery by Andrew Hunt and David Thomas', 'Algorithms to Live By: The Computer Science of Human Decisions by Brian Christian and Tom Griffiths', 'Algorithms to Live By  The Computer Science of Human Decisions by Brian Christian']\n"
     ]
    }
   ],
   "source": [
    "book = 'Algorithms to Live By  The Computer Science of Human Decisions by Brian Christian'\n",
    "if book not in cs_books:\n",
    "    cs_books.append(book)\n",
    "print(cs_books)\n"
   ]
  }
 ],
 "metadata": {
  "kernelspec": {
   "display_name": "Python 3 (ipykernel)",
   "language": "python",
   "name": "python3"
  },
  "language_info": {
   "codemirror_mode": {
    "name": "ipython",
    "version": 3
   },
   "file_extension": ".py",
   "mimetype": "text/x-python",
   "name": "python",
   "nbconvert_exporter": "python",
   "pygments_lexer": "ipython3",
   "version": "3.12.0"
  }
 },
 "nbformat": 4,
 "nbformat_minor": 5
}
