{
 "cells": [
  {
   "cell_type": "code",
   "execution_count": 79,
   "id": "a768f163",
   "metadata": {},
   "outputs": [],
   "source": [
    "import pandas as pd\n",
    "import numpy as np\n",
    "import warnings\n",
    "warnings.filterwarnings('ignore')"
   ]
  },
  {
   "cell_type": "code",
   "execution_count": 80,
   "id": "6d0be48f",
   "metadata": {},
   "outputs": [
    {
     "data": {
      "application/vnd.microsoft.datawrangler.viewer.v0+json": {
       "columns": [
        {
         "name": "index",
         "rawType": "int64",
         "type": "integer"
        },
        {
         "name": "item_name",
         "rawType": "object",
         "type": "string"
        },
        {
         "name": "item_category",
         "rawType": "object",
         "type": "string"
        },
        {
         "name": "purity",
         "rawType": "int64",
         "type": "integer"
        },
        {
         "name": "frmwt",
         "rawType": "float64",
         "type": "float"
        },
        {
         "name": "towt",
         "rawType": "float64",
         "type": "float"
        },
        {
         "name": "wadtage",
         "rawType": "float64",
         "type": "float"
        }
       ],
       "ref": "ffd3feb1-ad1b-4cef-9b3a-5515304e1e82",
       "rows": [
        [
         "0",
         "BABY BANGLE",
         "BOMBAY",
         "22",
         "1.0",
         "2.0",
         "15.0"
        ],
        [
         "1",
         "BABY BANGLE",
         "BOMBAY",
         "22",
         "2.0",
         "4.0",
         "15.0"
        ],
        [
         "2",
         "BABY BANGLE",
         "BOMBAY",
         "22",
         "4.0",
         "8.0",
         "15.0"
        ],
        [
         "3",
         "BABY BANGLE",
         "BOMBAY_SL",
         "22",
         "1.5",
         "2.5",
         "15.0"
        ],
        [
         "4",
         "BABY BANGLE",
         "BOMBAY_SL",
         "22",
         "3.0",
         "5.0",
         "15.0"
        ],
        [
         "5",
         "BABY BANGLE",
         "BOMBAY_SL",
         "22",
         "5.0",
         "9.0",
         "15.0"
        ],
        [
         "6",
         "GOLD RING",
         "DELHI",
         "18",
         "0.5",
         "1.5",
         "12.5"
        ],
        [
         "7",
         "GOLD RING",
         "DELHI",
         "18",
         "1.5",
         "2.5",
         "12.5"
        ],
        [
         "8",
         "GOLD RING",
         "DELHI",
         "18",
         "2.5",
         "4.0",
         "12.5"
        ],
        [
         "9",
         "GOLD RING",
         "DELHI_SL",
         "18",
         "0.6",
         "1.4",
         "12.5"
        ],
        [
         "10",
         "GOLD RING",
         "DELHI_SL",
         "18",
         "1.6",
         "2.6",
         "12.5"
        ],
        [
         "11",
         "GOLD RING",
         "DELHI_SL",
         "18",
         "2.8",
         "4.5",
         "12.5"
        ]
       ],
       "shape": {
        "columns": 6,
        "rows": 12
       }
      },
      "text/html": [
       "<div>\n",
       "<style scoped>\n",
       "    .dataframe tbody tr th:only-of-type {\n",
       "        vertical-align: middle;\n",
       "    }\n",
       "\n",
       "    .dataframe tbody tr th {\n",
       "        vertical-align: top;\n",
       "    }\n",
       "\n",
       "    .dataframe thead th {\n",
       "        text-align: right;\n",
       "    }\n",
       "</style>\n",
       "<table border=\"1\" class=\"dataframe\">\n",
       "  <thead>\n",
       "    <tr style=\"text-align: right;\">\n",
       "      <th></th>\n",
       "      <th>item_name</th>\n",
       "      <th>item_category</th>\n",
       "      <th>purity</th>\n",
       "      <th>frmwt</th>\n",
       "      <th>towt</th>\n",
       "      <th>wadtage</th>\n",
       "    </tr>\n",
       "  </thead>\n",
       "  <tbody>\n",
       "    <tr>\n",
       "      <th>0</th>\n",
       "      <td>BABY BANGLE</td>\n",
       "      <td>BOMBAY</td>\n",
       "      <td>22</td>\n",
       "      <td>1.0</td>\n",
       "      <td>2.0</td>\n",
       "      <td>15.0</td>\n",
       "    </tr>\n",
       "    <tr>\n",
       "      <th>1</th>\n",
       "      <td>BABY BANGLE</td>\n",
       "      <td>BOMBAY</td>\n",
       "      <td>22</td>\n",
       "      <td>2.0</td>\n",
       "      <td>4.0</td>\n",
       "      <td>15.0</td>\n",
       "    </tr>\n",
       "    <tr>\n",
       "      <th>2</th>\n",
       "      <td>BABY BANGLE</td>\n",
       "      <td>BOMBAY</td>\n",
       "      <td>22</td>\n",
       "      <td>4.0</td>\n",
       "      <td>8.0</td>\n",
       "      <td>15.0</td>\n",
       "    </tr>\n",
       "    <tr>\n",
       "      <th>3</th>\n",
       "      <td>BABY BANGLE</td>\n",
       "      <td>BOMBAY_SL</td>\n",
       "      <td>22</td>\n",
       "      <td>1.5</td>\n",
       "      <td>2.5</td>\n",
       "      <td>15.0</td>\n",
       "    </tr>\n",
       "    <tr>\n",
       "      <th>4</th>\n",
       "      <td>BABY BANGLE</td>\n",
       "      <td>BOMBAY_SL</td>\n",
       "      <td>22</td>\n",
       "      <td>3.0</td>\n",
       "      <td>5.0</td>\n",
       "      <td>15.0</td>\n",
       "    </tr>\n",
       "    <tr>\n",
       "      <th>5</th>\n",
       "      <td>BABY BANGLE</td>\n",
       "      <td>BOMBAY_SL</td>\n",
       "      <td>22</td>\n",
       "      <td>5.0</td>\n",
       "      <td>9.0</td>\n",
       "      <td>15.0</td>\n",
       "    </tr>\n",
       "    <tr>\n",
       "      <th>6</th>\n",
       "      <td>GOLD RING</td>\n",
       "      <td>DELHI</td>\n",
       "      <td>18</td>\n",
       "      <td>0.5</td>\n",
       "      <td>1.5</td>\n",
       "      <td>12.5</td>\n",
       "    </tr>\n",
       "    <tr>\n",
       "      <th>7</th>\n",
       "      <td>GOLD RING</td>\n",
       "      <td>DELHI</td>\n",
       "      <td>18</td>\n",
       "      <td>1.5</td>\n",
       "      <td>2.5</td>\n",
       "      <td>12.5</td>\n",
       "    </tr>\n",
       "    <tr>\n",
       "      <th>8</th>\n",
       "      <td>GOLD RING</td>\n",
       "      <td>DELHI</td>\n",
       "      <td>18</td>\n",
       "      <td>2.5</td>\n",
       "      <td>4.0</td>\n",
       "      <td>12.5</td>\n",
       "    </tr>\n",
       "    <tr>\n",
       "      <th>9</th>\n",
       "      <td>GOLD RING</td>\n",
       "      <td>DELHI_SL</td>\n",
       "      <td>18</td>\n",
       "      <td>0.6</td>\n",
       "      <td>1.4</td>\n",
       "      <td>12.5</td>\n",
       "    </tr>\n",
       "    <tr>\n",
       "      <th>10</th>\n",
       "      <td>GOLD RING</td>\n",
       "      <td>DELHI_SL</td>\n",
       "      <td>18</td>\n",
       "      <td>1.6</td>\n",
       "      <td>2.6</td>\n",
       "      <td>12.5</td>\n",
       "    </tr>\n",
       "    <tr>\n",
       "      <th>11</th>\n",
       "      <td>GOLD RING</td>\n",
       "      <td>DELHI_SL</td>\n",
       "      <td>18</td>\n",
       "      <td>2.8</td>\n",
       "      <td>4.5</td>\n",
       "      <td>12.5</td>\n",
       "    </tr>\n",
       "  </tbody>\n",
       "</table>\n",
       "</div>"
      ],
      "text/plain": [
       "      item_name item_category  purity  frmwt  towt  wadtage\n",
       "0   BABY BANGLE        BOMBAY      22    1.0   2.0     15.0\n",
       "1   BABY BANGLE        BOMBAY      22    2.0   4.0     15.0\n",
       "2   BABY BANGLE        BOMBAY      22    4.0   8.0     15.0\n",
       "3   BABY BANGLE     BOMBAY_SL      22    1.5   2.5     15.0\n",
       "4   BABY BANGLE     BOMBAY_SL      22    3.0   5.0     15.0\n",
       "5   BABY BANGLE     BOMBAY_SL      22    5.0   9.0     15.0\n",
       "6     GOLD RING         DELHI      18    0.5   1.5     12.5\n",
       "7     GOLD RING         DELHI      18    1.5   2.5     12.5\n",
       "8     GOLD RING         DELHI      18    2.5   4.0     12.5\n",
       "9     GOLD RING      DELHI_SL      18    0.6   1.4     12.5\n",
       "10    GOLD RING      DELHI_SL      18    1.6   2.6     12.5\n",
       "11    GOLD RING      DELHI_SL      18    2.8   4.5     12.5"
      ]
     },
     "execution_count": 80,
     "metadata": {},
     "output_type": "execute_result"
    }
   ],
   "source": [
    "df = pd.read_excel(r\"C:\\Users\\ASUS\\Documents\\GUVI ZEN CLASSES\\MAINT BOOT\\Dummy\\dummy_wastage_data_modified.xlsx\")\n",
    "df"
   ]
  },
  {
   "cell_type": "code",
   "execution_count": 81,
   "id": "ebfc9b70",
   "metadata": {},
   "outputs": [
    {
     "data": {
      "application/vnd.microsoft.datawrangler.viewer.v0+json": {
       "columns": [
        {
         "name": "index",
         "rawType": "int64",
         "type": "integer"
        },
        {
         "name": "item_name",
         "rawType": "object",
         "type": "string"
        },
        {
         "name": "item_category",
         "rawType": "object",
         "type": "string"
        },
        {
         "name": "min_wt",
         "rawType": "float64",
         "type": "float"
        },
        {
         "name": "max_wt",
         "rawType": "float64",
         "type": "float"
        }
       ],
       "ref": "74c10bce-4dcc-43c8-88c9-228e4f89621b",
       "rows": [
        [
         "0",
         "BABY BANGLE",
         "BOMBAY",
         "1.0",
         "8.0"
        ],
        [
         "1",
         "BABY BANGLE",
         "BOMBAY_SL",
         "1.5",
         "9.0"
        ],
        [
         "2",
         "GOLD RING",
         "DELHI",
         "0.5",
         "4.0"
        ],
        [
         "3",
         "GOLD RING",
         "DELHI_SL",
         "0.6",
         "4.5"
        ]
       ],
       "shape": {
        "columns": 4,
        "rows": 4
       }
      },
      "text/html": [
       "<div>\n",
       "<style scoped>\n",
       "    .dataframe tbody tr th:only-of-type {\n",
       "        vertical-align: middle;\n",
       "    }\n",
       "\n",
       "    .dataframe tbody tr th {\n",
       "        vertical-align: top;\n",
       "    }\n",
       "\n",
       "    .dataframe thead th {\n",
       "        text-align: right;\n",
       "    }\n",
       "</style>\n",
       "<table border=\"1\" class=\"dataframe\">\n",
       "  <thead>\n",
       "    <tr style=\"text-align: right;\">\n",
       "      <th></th>\n",
       "      <th>item_name</th>\n",
       "      <th>item_category</th>\n",
       "      <th>min_wt</th>\n",
       "      <th>max_wt</th>\n",
       "    </tr>\n",
       "  </thead>\n",
       "  <tbody>\n",
       "    <tr>\n",
       "      <th>0</th>\n",
       "      <td>BABY BANGLE</td>\n",
       "      <td>BOMBAY</td>\n",
       "      <td>1.0</td>\n",
       "      <td>8.0</td>\n",
       "    </tr>\n",
       "    <tr>\n",
       "      <th>1</th>\n",
       "      <td>BABY BANGLE</td>\n",
       "      <td>BOMBAY_SL</td>\n",
       "      <td>1.5</td>\n",
       "      <td>9.0</td>\n",
       "    </tr>\n",
       "    <tr>\n",
       "      <th>2</th>\n",
       "      <td>GOLD RING</td>\n",
       "      <td>DELHI</td>\n",
       "      <td>0.5</td>\n",
       "      <td>4.0</td>\n",
       "    </tr>\n",
       "    <tr>\n",
       "      <th>3</th>\n",
       "      <td>GOLD RING</td>\n",
       "      <td>DELHI_SL</td>\n",
       "      <td>0.6</td>\n",
       "      <td>4.5</td>\n",
       "    </tr>\n",
       "  </tbody>\n",
       "</table>\n",
       "</div>"
      ],
      "text/plain": [
       "     item_name item_category  min_wt  max_wt\n",
       "0  BABY BANGLE        BOMBAY     1.0     8.0\n",
       "1  BABY BANGLE     BOMBAY_SL     1.5     9.0\n",
       "2    GOLD RING         DELHI     0.5     4.0\n",
       "3    GOLD RING      DELHI_SL     0.6     4.5"
      ]
     },
     "execution_count": 81,
     "metadata": {},
     "output_type": "execute_result"
    }
   ],
   "source": [
    "wt_range = df.groupby(['item_name','item_category']).agg(min_wt = ('frmwt','min'),max_wt = ('towt','max')).reset_index()\n",
    "wt_range"
   ]
  },
  {
   "cell_type": "code",
   "execution_count": 82,
   "id": "7d5f0efa",
   "metadata": {},
   "outputs": [
    {
     "data": {
      "application/vnd.microsoft.datawrangler.viewer.v0+json": {
       "columns": [
        {
         "name": "index",
         "rawType": "int64",
         "type": "integer"
        },
        {
         "name": "item_name",
         "rawType": "object",
         "type": "string"
        },
        {
         "name": "item_category",
         "rawType": "object",
         "type": "string"
        },
        {
         "name": "purity",
         "rawType": "int64",
         "type": "integer"
        },
        {
         "name": "frmwt",
         "rawType": "float64",
         "type": "float"
        },
        {
         "name": "towt",
         "rawType": "float64",
         "type": "float"
        },
        {
         "name": "wadtage",
         "rawType": "float64",
         "type": "float"
        },
        {
         "name": "min_wt",
         "rawType": "float64",
         "type": "float"
        },
        {
         "name": "max_wt",
         "rawType": "float64",
         "type": "float"
        }
       ],
       "ref": "70ca7815-640a-4a13-864a-13c17bc72e99",
       "rows": [
        [
         "0",
         "BABY BANGLE",
         "BOMBAY",
         "22",
         "1.0",
         "2.0",
         "15.0",
         "1.0",
         "8.0"
        ],
        [
         "1",
         "BABY BANGLE",
         "BOMBAY",
         "22",
         "2.0",
         "4.0",
         "15.0",
         "1.0",
         "8.0"
        ],
        [
         "2",
         "BABY BANGLE",
         "BOMBAY",
         "22",
         "4.0",
         "8.0",
         "15.0",
         "1.0",
         "8.0"
        ],
        [
         "3",
         "BABY BANGLE",
         "BOMBAY_SL",
         "22",
         "1.5",
         "2.5",
         "15.0",
         "1.5",
         "9.0"
        ],
        [
         "4",
         "BABY BANGLE",
         "BOMBAY_SL",
         "22",
         "3.0",
         "5.0",
         "15.0",
         "1.5",
         "9.0"
        ],
        [
         "5",
         "BABY BANGLE",
         "BOMBAY_SL",
         "22",
         "5.0",
         "9.0",
         "15.0",
         "1.5",
         "9.0"
        ],
        [
         "6",
         "GOLD RING",
         "DELHI",
         "18",
         "0.5",
         "1.5",
         "12.5",
         "0.5",
         "4.0"
        ],
        [
         "7",
         "GOLD RING",
         "DELHI",
         "18",
         "1.5",
         "2.5",
         "12.5",
         "0.5",
         "4.0"
        ],
        [
         "8",
         "GOLD RING",
         "DELHI",
         "18",
         "2.5",
         "4.0",
         "12.5",
         "0.5",
         "4.0"
        ],
        [
         "9",
         "GOLD RING",
         "DELHI_SL",
         "18",
         "0.6",
         "1.4",
         "12.5",
         "0.6",
         "4.5"
        ],
        [
         "10",
         "GOLD RING",
         "DELHI_SL",
         "18",
         "1.6",
         "2.6",
         "12.5",
         "0.6",
         "4.5"
        ],
        [
         "11",
         "GOLD RING",
         "DELHI_SL",
         "18",
         "2.8",
         "4.5",
         "12.5",
         "0.6",
         "4.5"
        ]
       ],
       "shape": {
        "columns": 8,
        "rows": 12
       }
      },
      "text/html": [
       "<div>\n",
       "<style scoped>\n",
       "    .dataframe tbody tr th:only-of-type {\n",
       "        vertical-align: middle;\n",
       "    }\n",
       "\n",
       "    .dataframe tbody tr th {\n",
       "        vertical-align: top;\n",
       "    }\n",
       "\n",
       "    .dataframe thead th {\n",
       "        text-align: right;\n",
       "    }\n",
       "</style>\n",
       "<table border=\"1\" class=\"dataframe\">\n",
       "  <thead>\n",
       "    <tr style=\"text-align: right;\">\n",
       "      <th></th>\n",
       "      <th>item_name</th>\n",
       "      <th>item_category</th>\n",
       "      <th>purity</th>\n",
       "      <th>frmwt</th>\n",
       "      <th>towt</th>\n",
       "      <th>wadtage</th>\n",
       "      <th>min_wt</th>\n",
       "      <th>max_wt</th>\n",
       "    </tr>\n",
       "  </thead>\n",
       "  <tbody>\n",
       "    <tr>\n",
       "      <th>0</th>\n",
       "      <td>BABY BANGLE</td>\n",
       "      <td>BOMBAY</td>\n",
       "      <td>22</td>\n",
       "      <td>1.0</td>\n",
       "      <td>2.0</td>\n",
       "      <td>15.0</td>\n",
       "      <td>1.0</td>\n",
       "      <td>8.0</td>\n",
       "    </tr>\n",
       "    <tr>\n",
       "      <th>1</th>\n",
       "      <td>BABY BANGLE</td>\n",
       "      <td>BOMBAY</td>\n",
       "      <td>22</td>\n",
       "      <td>2.0</td>\n",
       "      <td>4.0</td>\n",
       "      <td>15.0</td>\n",
       "      <td>1.0</td>\n",
       "      <td>8.0</td>\n",
       "    </tr>\n",
       "    <tr>\n",
       "      <th>2</th>\n",
       "      <td>BABY BANGLE</td>\n",
       "      <td>BOMBAY</td>\n",
       "      <td>22</td>\n",
       "      <td>4.0</td>\n",
       "      <td>8.0</td>\n",
       "      <td>15.0</td>\n",
       "      <td>1.0</td>\n",
       "      <td>8.0</td>\n",
       "    </tr>\n",
       "    <tr>\n",
       "      <th>3</th>\n",
       "      <td>BABY BANGLE</td>\n",
       "      <td>BOMBAY_SL</td>\n",
       "      <td>22</td>\n",
       "      <td>1.5</td>\n",
       "      <td>2.5</td>\n",
       "      <td>15.0</td>\n",
       "      <td>1.5</td>\n",
       "      <td>9.0</td>\n",
       "    </tr>\n",
       "    <tr>\n",
       "      <th>4</th>\n",
       "      <td>BABY BANGLE</td>\n",
       "      <td>BOMBAY_SL</td>\n",
       "      <td>22</td>\n",
       "      <td>3.0</td>\n",
       "      <td>5.0</td>\n",
       "      <td>15.0</td>\n",
       "      <td>1.5</td>\n",
       "      <td>9.0</td>\n",
       "    </tr>\n",
       "    <tr>\n",
       "      <th>5</th>\n",
       "      <td>BABY BANGLE</td>\n",
       "      <td>BOMBAY_SL</td>\n",
       "      <td>22</td>\n",
       "      <td>5.0</td>\n",
       "      <td>9.0</td>\n",
       "      <td>15.0</td>\n",
       "      <td>1.5</td>\n",
       "      <td>9.0</td>\n",
       "    </tr>\n",
       "    <tr>\n",
       "      <th>6</th>\n",
       "      <td>GOLD RING</td>\n",
       "      <td>DELHI</td>\n",
       "      <td>18</td>\n",
       "      <td>0.5</td>\n",
       "      <td>1.5</td>\n",
       "      <td>12.5</td>\n",
       "      <td>0.5</td>\n",
       "      <td>4.0</td>\n",
       "    </tr>\n",
       "    <tr>\n",
       "      <th>7</th>\n",
       "      <td>GOLD RING</td>\n",
       "      <td>DELHI</td>\n",
       "      <td>18</td>\n",
       "      <td>1.5</td>\n",
       "      <td>2.5</td>\n",
       "      <td>12.5</td>\n",
       "      <td>0.5</td>\n",
       "      <td>4.0</td>\n",
       "    </tr>\n",
       "    <tr>\n",
       "      <th>8</th>\n",
       "      <td>GOLD RING</td>\n",
       "      <td>DELHI</td>\n",
       "      <td>18</td>\n",
       "      <td>2.5</td>\n",
       "      <td>4.0</td>\n",
       "      <td>12.5</td>\n",
       "      <td>0.5</td>\n",
       "      <td>4.0</td>\n",
       "    </tr>\n",
       "    <tr>\n",
       "      <th>9</th>\n",
       "      <td>GOLD RING</td>\n",
       "      <td>DELHI_SL</td>\n",
       "      <td>18</td>\n",
       "      <td>0.6</td>\n",
       "      <td>1.4</td>\n",
       "      <td>12.5</td>\n",
       "      <td>0.6</td>\n",
       "      <td>4.5</td>\n",
       "    </tr>\n",
       "    <tr>\n",
       "      <th>10</th>\n",
       "      <td>GOLD RING</td>\n",
       "      <td>DELHI_SL</td>\n",
       "      <td>18</td>\n",
       "      <td>1.6</td>\n",
       "      <td>2.6</td>\n",
       "      <td>12.5</td>\n",
       "      <td>0.6</td>\n",
       "      <td>4.5</td>\n",
       "    </tr>\n",
       "    <tr>\n",
       "      <th>11</th>\n",
       "      <td>GOLD RING</td>\n",
       "      <td>DELHI_SL</td>\n",
       "      <td>18</td>\n",
       "      <td>2.8</td>\n",
       "      <td>4.5</td>\n",
       "      <td>12.5</td>\n",
       "      <td>0.6</td>\n",
       "      <td>4.5</td>\n",
       "    </tr>\n",
       "  </tbody>\n",
       "</table>\n",
       "</div>"
      ],
      "text/plain": [
       "      item_name item_category  purity  frmwt  towt  wadtage  min_wt  max_wt\n",
       "0   BABY BANGLE        BOMBAY      22    1.0   2.0     15.0     1.0     8.0\n",
       "1   BABY BANGLE        BOMBAY      22    2.0   4.0     15.0     1.0     8.0\n",
       "2   BABY BANGLE        BOMBAY      22    4.0   8.0     15.0     1.0     8.0\n",
       "3   BABY BANGLE     BOMBAY_SL      22    1.5   2.5     15.0     1.5     9.0\n",
       "4   BABY BANGLE     BOMBAY_SL      22    3.0   5.0     15.0     1.5     9.0\n",
       "5   BABY BANGLE     BOMBAY_SL      22    5.0   9.0     15.0     1.5     9.0\n",
       "6     GOLD RING         DELHI      18    0.5   1.5     12.5     0.5     4.0\n",
       "7     GOLD RING         DELHI      18    1.5   2.5     12.5     0.5     4.0\n",
       "8     GOLD RING         DELHI      18    2.5   4.0     12.5     0.5     4.0\n",
       "9     GOLD RING      DELHI_SL      18    0.6   1.4     12.5     0.6     4.5\n",
       "10    GOLD RING      DELHI_SL      18    1.6   2.6     12.5     0.6     4.5\n",
       "11    GOLD RING      DELHI_SL      18    2.8   4.5     12.5     0.6     4.5"
      ]
     },
     "execution_count": 82,
     "metadata": {},
     "output_type": "execute_result"
    }
   ],
   "source": [
    "df = df.merge(wt_range,on=['item_name','item_category'],how='left')\n",
    "df"
   ]
  },
  {
   "cell_type": "code",
   "execution_count": 83,
   "id": "4f670452",
   "metadata": {},
   "outputs": [],
   "source": [
    "df.drop(columns=['frmwt','towt'],inplace=True)"
   ]
  },
  {
   "cell_type": "code",
   "execution_count": 84,
   "id": "f8d56344",
   "metadata": {},
   "outputs": [
    {
     "data": {
      "application/vnd.microsoft.datawrangler.viewer.v0+json": {
       "columns": [
        {
         "name": "index",
         "rawType": "int64",
         "type": "integer"
        },
        {
         "name": "item_name",
         "rawType": "object",
         "type": "string"
        },
        {
         "name": "item_category",
         "rawType": "object",
         "type": "string"
        },
        {
         "name": "purity",
         "rawType": "int64",
         "type": "integer"
        },
        {
         "name": "wadtage",
         "rawType": "float64",
         "type": "float"
        },
        {
         "name": "min_wt",
         "rawType": "float64",
         "type": "float"
        },
        {
         "name": "max_wt",
         "rawType": "float64",
         "type": "float"
        }
       ],
       "ref": "d762d6ad-27b9-428d-8231-a766af8aaee4",
       "rows": [
        [
         "0",
         "BABY BANGLE",
         "BOMBAY",
         "22",
         "15.0",
         "1.0",
         "8.0"
        ],
        [
         "1",
         "BABY BANGLE",
         "BOMBAY",
         "22",
         "15.0",
         "1.0",
         "8.0"
        ],
        [
         "2",
         "BABY BANGLE",
         "BOMBAY",
         "22",
         "15.0",
         "1.0",
         "8.0"
        ],
        [
         "3",
         "BABY BANGLE",
         "BOMBAY_SL",
         "22",
         "15.0",
         "1.5",
         "9.0"
        ],
        [
         "4",
         "BABY BANGLE",
         "BOMBAY_SL",
         "22",
         "15.0",
         "1.5",
         "9.0"
        ],
        [
         "5",
         "BABY BANGLE",
         "BOMBAY_SL",
         "22",
         "15.0",
         "1.5",
         "9.0"
        ],
        [
         "6",
         "GOLD RING",
         "DELHI",
         "18",
         "12.5",
         "0.5",
         "4.0"
        ],
        [
         "7",
         "GOLD RING",
         "DELHI",
         "18",
         "12.5",
         "0.5",
         "4.0"
        ],
        [
         "8",
         "GOLD RING",
         "DELHI",
         "18",
         "12.5",
         "0.5",
         "4.0"
        ],
        [
         "9",
         "GOLD RING",
         "DELHI_SL",
         "18",
         "12.5",
         "0.6",
         "4.5"
        ],
        [
         "10",
         "GOLD RING",
         "DELHI_SL",
         "18",
         "12.5",
         "0.6",
         "4.5"
        ],
        [
         "11",
         "GOLD RING",
         "DELHI_SL",
         "18",
         "12.5",
         "0.6",
         "4.5"
        ]
       ],
       "shape": {
        "columns": 6,
        "rows": 12
       }
      },
      "text/html": [
       "<div>\n",
       "<style scoped>\n",
       "    .dataframe tbody tr th:only-of-type {\n",
       "        vertical-align: middle;\n",
       "    }\n",
       "\n",
       "    .dataframe tbody tr th {\n",
       "        vertical-align: top;\n",
       "    }\n",
       "\n",
       "    .dataframe thead th {\n",
       "        text-align: right;\n",
       "    }\n",
       "</style>\n",
       "<table border=\"1\" class=\"dataframe\">\n",
       "  <thead>\n",
       "    <tr style=\"text-align: right;\">\n",
       "      <th></th>\n",
       "      <th>item_name</th>\n",
       "      <th>item_category</th>\n",
       "      <th>purity</th>\n",
       "      <th>wadtage</th>\n",
       "      <th>min_wt</th>\n",
       "      <th>max_wt</th>\n",
       "    </tr>\n",
       "  </thead>\n",
       "  <tbody>\n",
       "    <tr>\n",
       "      <th>0</th>\n",
       "      <td>BABY BANGLE</td>\n",
       "      <td>BOMBAY</td>\n",
       "      <td>22</td>\n",
       "      <td>15.0</td>\n",
       "      <td>1.0</td>\n",
       "      <td>8.0</td>\n",
       "    </tr>\n",
       "    <tr>\n",
       "      <th>1</th>\n",
       "      <td>BABY BANGLE</td>\n",
       "      <td>BOMBAY</td>\n",
       "      <td>22</td>\n",
       "      <td>15.0</td>\n",
       "      <td>1.0</td>\n",
       "      <td>8.0</td>\n",
       "    </tr>\n",
       "    <tr>\n",
       "      <th>2</th>\n",
       "      <td>BABY BANGLE</td>\n",
       "      <td>BOMBAY</td>\n",
       "      <td>22</td>\n",
       "      <td>15.0</td>\n",
       "      <td>1.0</td>\n",
       "      <td>8.0</td>\n",
       "    </tr>\n",
       "    <tr>\n",
       "      <th>3</th>\n",
       "      <td>BABY BANGLE</td>\n",
       "      <td>BOMBAY_SL</td>\n",
       "      <td>22</td>\n",
       "      <td>15.0</td>\n",
       "      <td>1.5</td>\n",
       "      <td>9.0</td>\n",
       "    </tr>\n",
       "    <tr>\n",
       "      <th>4</th>\n",
       "      <td>BABY BANGLE</td>\n",
       "      <td>BOMBAY_SL</td>\n",
       "      <td>22</td>\n",
       "      <td>15.0</td>\n",
       "      <td>1.5</td>\n",
       "      <td>9.0</td>\n",
       "    </tr>\n",
       "    <tr>\n",
       "      <th>5</th>\n",
       "      <td>BABY BANGLE</td>\n",
       "      <td>BOMBAY_SL</td>\n",
       "      <td>22</td>\n",
       "      <td>15.0</td>\n",
       "      <td>1.5</td>\n",
       "      <td>9.0</td>\n",
       "    </tr>\n",
       "    <tr>\n",
       "      <th>6</th>\n",
       "      <td>GOLD RING</td>\n",
       "      <td>DELHI</td>\n",
       "      <td>18</td>\n",
       "      <td>12.5</td>\n",
       "      <td>0.5</td>\n",
       "      <td>4.0</td>\n",
       "    </tr>\n",
       "    <tr>\n",
       "      <th>7</th>\n",
       "      <td>GOLD RING</td>\n",
       "      <td>DELHI</td>\n",
       "      <td>18</td>\n",
       "      <td>12.5</td>\n",
       "      <td>0.5</td>\n",
       "      <td>4.0</td>\n",
       "    </tr>\n",
       "    <tr>\n",
       "      <th>8</th>\n",
       "      <td>GOLD RING</td>\n",
       "      <td>DELHI</td>\n",
       "      <td>18</td>\n",
       "      <td>12.5</td>\n",
       "      <td>0.5</td>\n",
       "      <td>4.0</td>\n",
       "    </tr>\n",
       "    <tr>\n",
       "      <th>9</th>\n",
       "      <td>GOLD RING</td>\n",
       "      <td>DELHI_SL</td>\n",
       "      <td>18</td>\n",
       "      <td>12.5</td>\n",
       "      <td>0.6</td>\n",
       "      <td>4.5</td>\n",
       "    </tr>\n",
       "    <tr>\n",
       "      <th>10</th>\n",
       "      <td>GOLD RING</td>\n",
       "      <td>DELHI_SL</td>\n",
       "      <td>18</td>\n",
       "      <td>12.5</td>\n",
       "      <td>0.6</td>\n",
       "      <td>4.5</td>\n",
       "    </tr>\n",
       "    <tr>\n",
       "      <th>11</th>\n",
       "      <td>GOLD RING</td>\n",
       "      <td>DELHI_SL</td>\n",
       "      <td>18</td>\n",
       "      <td>12.5</td>\n",
       "      <td>0.6</td>\n",
       "      <td>4.5</td>\n",
       "    </tr>\n",
       "  </tbody>\n",
       "</table>\n",
       "</div>"
      ],
      "text/plain": [
       "      item_name item_category  purity  wadtage  min_wt  max_wt\n",
       "0   BABY BANGLE        BOMBAY      22     15.0     1.0     8.0\n",
       "1   BABY BANGLE        BOMBAY      22     15.0     1.0     8.0\n",
       "2   BABY BANGLE        BOMBAY      22     15.0     1.0     8.0\n",
       "3   BABY BANGLE     BOMBAY_SL      22     15.0     1.5     9.0\n",
       "4   BABY BANGLE     BOMBAY_SL      22     15.0     1.5     9.0\n",
       "5   BABY BANGLE     BOMBAY_SL      22     15.0     1.5     9.0\n",
       "6     GOLD RING         DELHI      18     12.5     0.5     4.0\n",
       "7     GOLD RING         DELHI      18     12.5     0.5     4.0\n",
       "8     GOLD RING         DELHI      18     12.5     0.5     4.0\n",
       "9     GOLD RING      DELHI_SL      18     12.5     0.6     4.5\n",
       "10    GOLD RING      DELHI_SL      18     12.5     0.6     4.5\n",
       "11    GOLD RING      DELHI_SL      18     12.5     0.6     4.5"
      ]
     },
     "execution_count": 84,
     "metadata": {},
     "output_type": "execute_result"
    }
   ],
   "source": [
    "df"
   ]
  },
  {
   "cell_type": "code",
   "execution_count": 85,
   "id": "83631c11",
   "metadata": {},
   "outputs": [
    {
     "data": {
      "application/vnd.microsoft.datawrangler.viewer.v0+json": {
       "columns": [
        {
         "name": "index",
         "rawType": "int64",
         "type": "integer"
        },
        {
         "name": "item_name",
         "rawType": "object",
         "type": "string"
        },
        {
         "name": "item_category",
         "rawType": "object",
         "type": "string"
        },
        {
         "name": "purity",
         "rawType": "int64",
         "type": "integer"
        },
        {
         "name": "wadtage",
         "rawType": "float64",
         "type": "float"
        },
        {
         "name": "min_wt",
         "rawType": "float64",
         "type": "float"
        },
        {
         "name": "max_wt",
         "rawType": "float64",
         "type": "float"
        },
        {
         "name": "weight",
         "rawType": "object",
         "type": "string"
        }
       ],
       "ref": "057721f7-4e18-41ce-a7d5-9cda1917133e",
       "rows": [
        [
         "0",
         "BABY BANGLE",
         "BOMBAY",
         "22",
         "15.0",
         "1.0",
         "8.0",
         "1.0-8.0"
        ],
        [
         "1",
         "BABY BANGLE",
         "BOMBAY",
         "22",
         "15.0",
         "1.0",
         "8.0",
         "1.0-8.0"
        ],
        [
         "2",
         "BABY BANGLE",
         "BOMBAY",
         "22",
         "15.0",
         "1.0",
         "8.0",
         "1.0-8.0"
        ],
        [
         "3",
         "BABY BANGLE",
         "BOMBAY_SL",
         "22",
         "15.0",
         "1.5",
         "9.0",
         "1.5-9.0"
        ],
        [
         "4",
         "BABY BANGLE",
         "BOMBAY_SL",
         "22",
         "15.0",
         "1.5",
         "9.0",
         "1.5-9.0"
        ],
        [
         "5",
         "BABY BANGLE",
         "BOMBAY_SL",
         "22",
         "15.0",
         "1.5",
         "9.0",
         "1.5-9.0"
        ],
        [
         "6",
         "GOLD RING",
         "DELHI",
         "18",
         "12.5",
         "0.5",
         "4.0",
         "0.5-4.0"
        ],
        [
         "7",
         "GOLD RING",
         "DELHI",
         "18",
         "12.5",
         "0.5",
         "4.0",
         "0.5-4.0"
        ],
        [
         "8",
         "GOLD RING",
         "DELHI",
         "18",
         "12.5",
         "0.5",
         "4.0",
         "0.5-4.0"
        ],
        [
         "9",
         "GOLD RING",
         "DELHI_SL",
         "18",
         "12.5",
         "0.6",
         "4.5",
         "0.6-4.5"
        ],
        [
         "10",
         "GOLD RING",
         "DELHI_SL",
         "18",
         "12.5",
         "0.6",
         "4.5",
         "0.6-4.5"
        ],
        [
         "11",
         "GOLD RING",
         "DELHI_SL",
         "18",
         "12.5",
         "0.6",
         "4.5",
         "0.6-4.5"
        ]
       ],
       "shape": {
        "columns": 7,
        "rows": 12
       }
      },
      "text/html": [
       "<div>\n",
       "<style scoped>\n",
       "    .dataframe tbody tr th:only-of-type {\n",
       "        vertical-align: middle;\n",
       "    }\n",
       "\n",
       "    .dataframe tbody tr th {\n",
       "        vertical-align: top;\n",
       "    }\n",
       "\n",
       "    .dataframe thead th {\n",
       "        text-align: right;\n",
       "    }\n",
       "</style>\n",
       "<table border=\"1\" class=\"dataframe\">\n",
       "  <thead>\n",
       "    <tr style=\"text-align: right;\">\n",
       "      <th></th>\n",
       "      <th>item_name</th>\n",
       "      <th>item_category</th>\n",
       "      <th>purity</th>\n",
       "      <th>wadtage</th>\n",
       "      <th>min_wt</th>\n",
       "      <th>max_wt</th>\n",
       "      <th>weight</th>\n",
       "    </tr>\n",
       "  </thead>\n",
       "  <tbody>\n",
       "    <tr>\n",
       "      <th>0</th>\n",
       "      <td>BABY BANGLE</td>\n",
       "      <td>BOMBAY</td>\n",
       "      <td>22</td>\n",
       "      <td>15.0</td>\n",
       "      <td>1.0</td>\n",
       "      <td>8.0</td>\n",
       "      <td>1.0-8.0</td>\n",
       "    </tr>\n",
       "    <tr>\n",
       "      <th>1</th>\n",
       "      <td>BABY BANGLE</td>\n",
       "      <td>BOMBAY</td>\n",
       "      <td>22</td>\n",
       "      <td>15.0</td>\n",
       "      <td>1.0</td>\n",
       "      <td>8.0</td>\n",
       "      <td>1.0-8.0</td>\n",
       "    </tr>\n",
       "    <tr>\n",
       "      <th>2</th>\n",
       "      <td>BABY BANGLE</td>\n",
       "      <td>BOMBAY</td>\n",
       "      <td>22</td>\n",
       "      <td>15.0</td>\n",
       "      <td>1.0</td>\n",
       "      <td>8.0</td>\n",
       "      <td>1.0-8.0</td>\n",
       "    </tr>\n",
       "    <tr>\n",
       "      <th>3</th>\n",
       "      <td>BABY BANGLE</td>\n",
       "      <td>BOMBAY_SL</td>\n",
       "      <td>22</td>\n",
       "      <td>15.0</td>\n",
       "      <td>1.5</td>\n",
       "      <td>9.0</td>\n",
       "      <td>1.5-9.0</td>\n",
       "    </tr>\n",
       "    <tr>\n",
       "      <th>4</th>\n",
       "      <td>BABY BANGLE</td>\n",
       "      <td>BOMBAY_SL</td>\n",
       "      <td>22</td>\n",
       "      <td>15.0</td>\n",
       "      <td>1.5</td>\n",
       "      <td>9.0</td>\n",
       "      <td>1.5-9.0</td>\n",
       "    </tr>\n",
       "    <tr>\n",
       "      <th>5</th>\n",
       "      <td>BABY BANGLE</td>\n",
       "      <td>BOMBAY_SL</td>\n",
       "      <td>22</td>\n",
       "      <td>15.0</td>\n",
       "      <td>1.5</td>\n",
       "      <td>9.0</td>\n",
       "      <td>1.5-9.0</td>\n",
       "    </tr>\n",
       "    <tr>\n",
       "      <th>6</th>\n",
       "      <td>GOLD RING</td>\n",
       "      <td>DELHI</td>\n",
       "      <td>18</td>\n",
       "      <td>12.5</td>\n",
       "      <td>0.5</td>\n",
       "      <td>4.0</td>\n",
       "      <td>0.5-4.0</td>\n",
       "    </tr>\n",
       "    <tr>\n",
       "      <th>7</th>\n",
       "      <td>GOLD RING</td>\n",
       "      <td>DELHI</td>\n",
       "      <td>18</td>\n",
       "      <td>12.5</td>\n",
       "      <td>0.5</td>\n",
       "      <td>4.0</td>\n",
       "      <td>0.5-4.0</td>\n",
       "    </tr>\n",
       "    <tr>\n",
       "      <th>8</th>\n",
       "      <td>GOLD RING</td>\n",
       "      <td>DELHI</td>\n",
       "      <td>18</td>\n",
       "      <td>12.5</td>\n",
       "      <td>0.5</td>\n",
       "      <td>4.0</td>\n",
       "      <td>0.5-4.0</td>\n",
       "    </tr>\n",
       "    <tr>\n",
       "      <th>9</th>\n",
       "      <td>GOLD RING</td>\n",
       "      <td>DELHI_SL</td>\n",
       "      <td>18</td>\n",
       "      <td>12.5</td>\n",
       "      <td>0.6</td>\n",
       "      <td>4.5</td>\n",
       "      <td>0.6-4.5</td>\n",
       "    </tr>\n",
       "    <tr>\n",
       "      <th>10</th>\n",
       "      <td>GOLD RING</td>\n",
       "      <td>DELHI_SL</td>\n",
       "      <td>18</td>\n",
       "      <td>12.5</td>\n",
       "      <td>0.6</td>\n",
       "      <td>4.5</td>\n",
       "      <td>0.6-4.5</td>\n",
       "    </tr>\n",
       "    <tr>\n",
       "      <th>11</th>\n",
       "      <td>GOLD RING</td>\n",
       "      <td>DELHI_SL</td>\n",
       "      <td>18</td>\n",
       "      <td>12.5</td>\n",
       "      <td>0.6</td>\n",
       "      <td>4.5</td>\n",
       "      <td>0.6-4.5</td>\n",
       "    </tr>\n",
       "  </tbody>\n",
       "</table>\n",
       "</div>"
      ],
      "text/plain": [
       "      item_name item_category  purity  wadtage  min_wt  max_wt   weight\n",
       "0   BABY BANGLE        BOMBAY      22     15.0     1.0     8.0  1.0-8.0\n",
       "1   BABY BANGLE        BOMBAY      22     15.0     1.0     8.0  1.0-8.0\n",
       "2   BABY BANGLE        BOMBAY      22     15.0     1.0     8.0  1.0-8.0\n",
       "3   BABY BANGLE     BOMBAY_SL      22     15.0     1.5     9.0  1.5-9.0\n",
       "4   BABY BANGLE     BOMBAY_SL      22     15.0     1.5     9.0  1.5-9.0\n",
       "5   BABY BANGLE     BOMBAY_SL      22     15.0     1.5     9.0  1.5-9.0\n",
       "6     GOLD RING         DELHI      18     12.5     0.5     4.0  0.5-4.0\n",
       "7     GOLD RING         DELHI      18     12.5     0.5     4.0  0.5-4.0\n",
       "8     GOLD RING         DELHI      18     12.5     0.5     4.0  0.5-4.0\n",
       "9     GOLD RING      DELHI_SL      18     12.5     0.6     4.5  0.6-4.5\n",
       "10    GOLD RING      DELHI_SL      18     12.5     0.6     4.5  0.6-4.5\n",
       "11    GOLD RING      DELHI_SL      18     12.5     0.6     4.5  0.6-4.5"
      ]
     },
     "execution_count": 85,
     "metadata": {},
     "output_type": "execute_result"
    }
   ],
   "source": [
    "df['weight'] = df['min_wt'].astype(str)+'-'+df['max_wt'].astype(str)\n",
    "df"
   ]
  },
  {
   "cell_type": "code",
   "execution_count": 86,
   "id": "a8750c0b",
   "metadata": {},
   "outputs": [],
   "source": [
    "df.drop(columns=['min_wt','max_wt'],inplace=True)"
   ]
  },
  {
   "cell_type": "code",
   "execution_count": 87,
   "id": "8aecf508",
   "metadata": {},
   "outputs": [
    {
     "data": {
      "application/vnd.microsoft.datawrangler.viewer.v0+json": {
       "columns": [
        {
         "name": "index",
         "rawType": "int64",
         "type": "integer"
        },
        {
         "name": "item_name",
         "rawType": "object",
         "type": "string"
        },
        {
         "name": "item_category",
         "rawType": "object",
         "type": "string"
        },
        {
         "name": "purity",
         "rawType": "int64",
         "type": "integer"
        },
        {
         "name": "wadtage",
         "rawType": "float64",
         "type": "float"
        },
        {
         "name": "weight",
         "rawType": "object",
         "type": "string"
        }
       ],
       "ref": "b1ec94db-c7b7-4053-8b95-d40a0e1934ac",
       "rows": [
        [
         "0",
         "BABY BANGLE",
         "BOMBAY",
         "22",
         "15.0",
         "1.0-8.0"
        ],
        [
         "1",
         "BABY BANGLE",
         "BOMBAY",
         "22",
         "15.0",
         "1.0-8.0"
        ],
        [
         "2",
         "BABY BANGLE",
         "BOMBAY",
         "22",
         "15.0",
         "1.0-8.0"
        ],
        [
         "3",
         "BABY BANGLE",
         "BOMBAY_SL",
         "22",
         "15.0",
         "1.5-9.0"
        ],
        [
         "4",
         "BABY BANGLE",
         "BOMBAY_SL",
         "22",
         "15.0",
         "1.5-9.0"
        ],
        [
         "5",
         "BABY BANGLE",
         "BOMBAY_SL",
         "22",
         "15.0",
         "1.5-9.0"
        ],
        [
         "6",
         "GOLD RING",
         "DELHI",
         "18",
         "12.5",
         "0.5-4.0"
        ],
        [
         "7",
         "GOLD RING",
         "DELHI",
         "18",
         "12.5",
         "0.5-4.0"
        ],
        [
         "8",
         "GOLD RING",
         "DELHI",
         "18",
         "12.5",
         "0.5-4.0"
        ],
        [
         "9",
         "GOLD RING",
         "DELHI_SL",
         "18",
         "12.5",
         "0.6-4.5"
        ],
        [
         "10",
         "GOLD RING",
         "DELHI_SL",
         "18",
         "12.5",
         "0.6-4.5"
        ],
        [
         "11",
         "GOLD RING",
         "DELHI_SL",
         "18",
         "12.5",
         "0.6-4.5"
        ]
       ],
       "shape": {
        "columns": 5,
        "rows": 12
       }
      },
      "text/html": [
       "<div>\n",
       "<style scoped>\n",
       "    .dataframe tbody tr th:only-of-type {\n",
       "        vertical-align: middle;\n",
       "    }\n",
       "\n",
       "    .dataframe tbody tr th {\n",
       "        vertical-align: top;\n",
       "    }\n",
       "\n",
       "    .dataframe thead th {\n",
       "        text-align: right;\n",
       "    }\n",
       "</style>\n",
       "<table border=\"1\" class=\"dataframe\">\n",
       "  <thead>\n",
       "    <tr style=\"text-align: right;\">\n",
       "      <th></th>\n",
       "      <th>item_name</th>\n",
       "      <th>item_category</th>\n",
       "      <th>purity</th>\n",
       "      <th>wadtage</th>\n",
       "      <th>weight</th>\n",
       "    </tr>\n",
       "  </thead>\n",
       "  <tbody>\n",
       "    <tr>\n",
       "      <th>0</th>\n",
       "      <td>BABY BANGLE</td>\n",
       "      <td>BOMBAY</td>\n",
       "      <td>22</td>\n",
       "      <td>15.0</td>\n",
       "      <td>1.0-8.0</td>\n",
       "    </tr>\n",
       "    <tr>\n",
       "      <th>1</th>\n",
       "      <td>BABY BANGLE</td>\n",
       "      <td>BOMBAY</td>\n",
       "      <td>22</td>\n",
       "      <td>15.0</td>\n",
       "      <td>1.0-8.0</td>\n",
       "    </tr>\n",
       "    <tr>\n",
       "      <th>2</th>\n",
       "      <td>BABY BANGLE</td>\n",
       "      <td>BOMBAY</td>\n",
       "      <td>22</td>\n",
       "      <td>15.0</td>\n",
       "      <td>1.0-8.0</td>\n",
       "    </tr>\n",
       "    <tr>\n",
       "      <th>3</th>\n",
       "      <td>BABY BANGLE</td>\n",
       "      <td>BOMBAY_SL</td>\n",
       "      <td>22</td>\n",
       "      <td>15.0</td>\n",
       "      <td>1.5-9.0</td>\n",
       "    </tr>\n",
       "    <tr>\n",
       "      <th>4</th>\n",
       "      <td>BABY BANGLE</td>\n",
       "      <td>BOMBAY_SL</td>\n",
       "      <td>22</td>\n",
       "      <td>15.0</td>\n",
       "      <td>1.5-9.0</td>\n",
       "    </tr>\n",
       "    <tr>\n",
       "      <th>5</th>\n",
       "      <td>BABY BANGLE</td>\n",
       "      <td>BOMBAY_SL</td>\n",
       "      <td>22</td>\n",
       "      <td>15.0</td>\n",
       "      <td>1.5-9.0</td>\n",
       "    </tr>\n",
       "    <tr>\n",
       "      <th>6</th>\n",
       "      <td>GOLD RING</td>\n",
       "      <td>DELHI</td>\n",
       "      <td>18</td>\n",
       "      <td>12.5</td>\n",
       "      <td>0.5-4.0</td>\n",
       "    </tr>\n",
       "    <tr>\n",
       "      <th>7</th>\n",
       "      <td>GOLD RING</td>\n",
       "      <td>DELHI</td>\n",
       "      <td>18</td>\n",
       "      <td>12.5</td>\n",
       "      <td>0.5-4.0</td>\n",
       "    </tr>\n",
       "    <tr>\n",
       "      <th>8</th>\n",
       "      <td>GOLD RING</td>\n",
       "      <td>DELHI</td>\n",
       "      <td>18</td>\n",
       "      <td>12.5</td>\n",
       "      <td>0.5-4.0</td>\n",
       "    </tr>\n",
       "    <tr>\n",
       "      <th>9</th>\n",
       "      <td>GOLD RING</td>\n",
       "      <td>DELHI_SL</td>\n",
       "      <td>18</td>\n",
       "      <td>12.5</td>\n",
       "      <td>0.6-4.5</td>\n",
       "    </tr>\n",
       "    <tr>\n",
       "      <th>10</th>\n",
       "      <td>GOLD RING</td>\n",
       "      <td>DELHI_SL</td>\n",
       "      <td>18</td>\n",
       "      <td>12.5</td>\n",
       "      <td>0.6-4.5</td>\n",
       "    </tr>\n",
       "    <tr>\n",
       "      <th>11</th>\n",
       "      <td>GOLD RING</td>\n",
       "      <td>DELHI_SL</td>\n",
       "      <td>18</td>\n",
       "      <td>12.5</td>\n",
       "      <td>0.6-4.5</td>\n",
       "    </tr>\n",
       "  </tbody>\n",
       "</table>\n",
       "</div>"
      ],
      "text/plain": [
       "      item_name item_category  purity  wadtage   weight\n",
       "0   BABY BANGLE        BOMBAY      22     15.0  1.0-8.0\n",
       "1   BABY BANGLE        BOMBAY      22     15.0  1.0-8.0\n",
       "2   BABY BANGLE        BOMBAY      22     15.0  1.0-8.0\n",
       "3   BABY BANGLE     BOMBAY_SL      22     15.0  1.5-9.0\n",
       "4   BABY BANGLE     BOMBAY_SL      22     15.0  1.5-9.0\n",
       "5   BABY BANGLE     BOMBAY_SL      22     15.0  1.5-9.0\n",
       "6     GOLD RING         DELHI      18     12.5  0.5-4.0\n",
       "7     GOLD RING         DELHI      18     12.5  0.5-4.0\n",
       "8     GOLD RING         DELHI      18     12.5  0.5-4.0\n",
       "9     GOLD RING      DELHI_SL      18     12.5  0.6-4.5\n",
       "10    GOLD RING      DELHI_SL      18     12.5  0.6-4.5\n",
       "11    GOLD RING      DELHI_SL      18     12.5  0.6-4.5"
      ]
     },
     "execution_count": 87,
     "metadata": {},
     "output_type": "execute_result"
    }
   ],
   "source": [
    "df"
   ]
  },
  {
   "cell_type": "code",
   "execution_count": 88,
   "id": "7023ba75",
   "metadata": {},
   "outputs": [
    {
     "data": {
      "text/plain": [
       "['item_name', 'item_category', 'purity', 'wadtage', 'weight']"
      ]
     },
     "execution_count": 88,
     "metadata": {},
     "output_type": "execute_result"
    }
   ],
   "source": [
    "cols = df.columns.tolist()\n",
    "cols"
   ]
  },
  {
   "cell_type": "code",
   "execution_count": 89,
   "id": "40baef1e",
   "metadata": {},
   "outputs": [
    {
     "data": {
      "text/plain": [
       "'weight'"
      ]
     },
     "execution_count": 89,
     "metadata": {},
     "output_type": "execute_result"
    }
   ],
   "source": [
    "wt = cols.pop()\n",
    "wt"
   ]
  },
  {
   "cell_type": "code",
   "execution_count": 90,
   "id": "7d53fb85",
   "metadata": {},
   "outputs": [
    {
     "data": {
      "text/plain": [
       "['item_name', 'item_category', 'purity', 'weight', 'wadtage']"
      ]
     },
     "execution_count": 90,
     "metadata": {},
     "output_type": "execute_result"
    }
   ],
   "source": [
    "cols.insert(3,wt)\n",
    "cols"
   ]
  },
  {
   "cell_type": "code",
   "execution_count": 91,
   "id": "ca315270",
   "metadata": {},
   "outputs": [
    {
     "data": {
      "application/vnd.microsoft.datawrangler.viewer.v0+json": {
       "columns": [
        {
         "name": "index",
         "rawType": "int64",
         "type": "integer"
        },
        {
         "name": "item_name",
         "rawType": "object",
         "type": "string"
        },
        {
         "name": "item_category",
         "rawType": "object",
         "type": "string"
        },
        {
         "name": "purity",
         "rawType": "int64",
         "type": "integer"
        },
        {
         "name": "weight",
         "rawType": "object",
         "type": "string"
        },
        {
         "name": "wadtage",
         "rawType": "float64",
         "type": "float"
        }
       ],
       "ref": "47ee6260-2b98-47bf-806a-11e2068cbae0",
       "rows": [
        [
         "0",
         "BABY BANGLE",
         "BOMBAY",
         "22",
         "1.0-8.0",
         "15.0"
        ],
        [
         "1",
         "BABY BANGLE",
         "BOMBAY",
         "22",
         "1.0-8.0",
         "15.0"
        ],
        [
         "2",
         "BABY BANGLE",
         "BOMBAY",
         "22",
         "1.0-8.0",
         "15.0"
        ],
        [
         "3",
         "BABY BANGLE",
         "BOMBAY_SL",
         "22",
         "1.5-9.0",
         "15.0"
        ],
        [
         "4",
         "BABY BANGLE",
         "BOMBAY_SL",
         "22",
         "1.5-9.0",
         "15.0"
        ],
        [
         "5",
         "BABY BANGLE",
         "BOMBAY_SL",
         "22",
         "1.5-9.0",
         "15.0"
        ],
        [
         "6",
         "GOLD RING",
         "DELHI",
         "18",
         "0.5-4.0",
         "12.5"
        ],
        [
         "7",
         "GOLD RING",
         "DELHI",
         "18",
         "0.5-4.0",
         "12.5"
        ],
        [
         "8",
         "GOLD RING",
         "DELHI",
         "18",
         "0.5-4.0",
         "12.5"
        ],
        [
         "9",
         "GOLD RING",
         "DELHI_SL",
         "18",
         "0.6-4.5",
         "12.5"
        ],
        [
         "10",
         "GOLD RING",
         "DELHI_SL",
         "18",
         "0.6-4.5",
         "12.5"
        ],
        [
         "11",
         "GOLD RING",
         "DELHI_SL",
         "18",
         "0.6-4.5",
         "12.5"
        ]
       ],
       "shape": {
        "columns": 5,
        "rows": 12
       }
      },
      "text/html": [
       "<div>\n",
       "<style scoped>\n",
       "    .dataframe tbody tr th:only-of-type {\n",
       "        vertical-align: middle;\n",
       "    }\n",
       "\n",
       "    .dataframe tbody tr th {\n",
       "        vertical-align: top;\n",
       "    }\n",
       "\n",
       "    .dataframe thead th {\n",
       "        text-align: right;\n",
       "    }\n",
       "</style>\n",
       "<table border=\"1\" class=\"dataframe\">\n",
       "  <thead>\n",
       "    <tr style=\"text-align: right;\">\n",
       "      <th></th>\n",
       "      <th>item_name</th>\n",
       "      <th>item_category</th>\n",
       "      <th>purity</th>\n",
       "      <th>weight</th>\n",
       "      <th>wadtage</th>\n",
       "    </tr>\n",
       "  </thead>\n",
       "  <tbody>\n",
       "    <tr>\n",
       "      <th>0</th>\n",
       "      <td>BABY BANGLE</td>\n",
       "      <td>BOMBAY</td>\n",
       "      <td>22</td>\n",
       "      <td>1.0-8.0</td>\n",
       "      <td>15.0</td>\n",
       "    </tr>\n",
       "    <tr>\n",
       "      <th>1</th>\n",
       "      <td>BABY BANGLE</td>\n",
       "      <td>BOMBAY</td>\n",
       "      <td>22</td>\n",
       "      <td>1.0-8.0</td>\n",
       "      <td>15.0</td>\n",
       "    </tr>\n",
       "    <tr>\n",
       "      <th>2</th>\n",
       "      <td>BABY BANGLE</td>\n",
       "      <td>BOMBAY</td>\n",
       "      <td>22</td>\n",
       "      <td>1.0-8.0</td>\n",
       "      <td>15.0</td>\n",
       "    </tr>\n",
       "    <tr>\n",
       "      <th>3</th>\n",
       "      <td>BABY BANGLE</td>\n",
       "      <td>BOMBAY_SL</td>\n",
       "      <td>22</td>\n",
       "      <td>1.5-9.0</td>\n",
       "      <td>15.0</td>\n",
       "    </tr>\n",
       "    <tr>\n",
       "      <th>4</th>\n",
       "      <td>BABY BANGLE</td>\n",
       "      <td>BOMBAY_SL</td>\n",
       "      <td>22</td>\n",
       "      <td>1.5-9.0</td>\n",
       "      <td>15.0</td>\n",
       "    </tr>\n",
       "    <tr>\n",
       "      <th>5</th>\n",
       "      <td>BABY BANGLE</td>\n",
       "      <td>BOMBAY_SL</td>\n",
       "      <td>22</td>\n",
       "      <td>1.5-9.0</td>\n",
       "      <td>15.0</td>\n",
       "    </tr>\n",
       "    <tr>\n",
       "      <th>6</th>\n",
       "      <td>GOLD RING</td>\n",
       "      <td>DELHI</td>\n",
       "      <td>18</td>\n",
       "      <td>0.5-4.0</td>\n",
       "      <td>12.5</td>\n",
       "    </tr>\n",
       "    <tr>\n",
       "      <th>7</th>\n",
       "      <td>GOLD RING</td>\n",
       "      <td>DELHI</td>\n",
       "      <td>18</td>\n",
       "      <td>0.5-4.0</td>\n",
       "      <td>12.5</td>\n",
       "    </tr>\n",
       "    <tr>\n",
       "      <th>8</th>\n",
       "      <td>GOLD RING</td>\n",
       "      <td>DELHI</td>\n",
       "      <td>18</td>\n",
       "      <td>0.5-4.0</td>\n",
       "      <td>12.5</td>\n",
       "    </tr>\n",
       "    <tr>\n",
       "      <th>9</th>\n",
       "      <td>GOLD RING</td>\n",
       "      <td>DELHI_SL</td>\n",
       "      <td>18</td>\n",
       "      <td>0.6-4.5</td>\n",
       "      <td>12.5</td>\n",
       "    </tr>\n",
       "    <tr>\n",
       "      <th>10</th>\n",
       "      <td>GOLD RING</td>\n",
       "      <td>DELHI_SL</td>\n",
       "      <td>18</td>\n",
       "      <td>0.6-4.5</td>\n",
       "      <td>12.5</td>\n",
       "    </tr>\n",
       "    <tr>\n",
       "      <th>11</th>\n",
       "      <td>GOLD RING</td>\n",
       "      <td>DELHI_SL</td>\n",
       "      <td>18</td>\n",
       "      <td>0.6-4.5</td>\n",
       "      <td>12.5</td>\n",
       "    </tr>\n",
       "  </tbody>\n",
       "</table>\n",
       "</div>"
      ],
      "text/plain": [
       "      item_name item_category  purity   weight  wadtage\n",
       "0   BABY BANGLE        BOMBAY      22  1.0-8.0     15.0\n",
       "1   BABY BANGLE        BOMBAY      22  1.0-8.0     15.0\n",
       "2   BABY BANGLE        BOMBAY      22  1.0-8.0     15.0\n",
       "3   BABY BANGLE     BOMBAY_SL      22  1.5-9.0     15.0\n",
       "4   BABY BANGLE     BOMBAY_SL      22  1.5-9.0     15.0\n",
       "5   BABY BANGLE     BOMBAY_SL      22  1.5-9.0     15.0\n",
       "6     GOLD RING         DELHI      18  0.5-4.0     12.5\n",
       "7     GOLD RING         DELHI      18  0.5-4.0     12.5\n",
       "8     GOLD RING         DELHI      18  0.5-4.0     12.5\n",
       "9     GOLD RING      DELHI_SL      18  0.6-4.5     12.5\n",
       "10    GOLD RING      DELHI_SL      18  0.6-4.5     12.5\n",
       "11    GOLD RING      DELHI_SL      18  0.6-4.5     12.5"
      ]
     },
     "execution_count": 91,
     "metadata": {},
     "output_type": "execute_result"
    }
   ],
   "source": [
    "df = df[cols]\n",
    "df"
   ]
  },
  {
   "cell_type": "code",
   "execution_count": 94,
   "id": "95fa60de",
   "metadata": {},
   "outputs": [],
   "source": [
    "df.drop_duplicates(subset=['item_name','item_category'],keep='first',inplace=True)"
   ]
  },
  {
   "cell_type": "code",
   "execution_count": 95,
   "id": "bcafaafe",
   "metadata": {},
   "outputs": [
    {
     "data": {
      "application/vnd.microsoft.datawrangler.viewer.v0+json": {
       "columns": [
        {
         "name": "index",
         "rawType": "int64",
         "type": "integer"
        },
        {
         "name": "item_name",
         "rawType": "object",
         "type": "string"
        },
        {
         "name": "item_category",
         "rawType": "object",
         "type": "string"
        },
        {
         "name": "purity",
         "rawType": "int64",
         "type": "integer"
        },
        {
         "name": "weight",
         "rawType": "object",
         "type": "string"
        },
        {
         "name": "wadtage",
         "rawType": "float64",
         "type": "float"
        }
       ],
       "ref": "1f07d480-15d4-414c-a324-8d075d27bdd7",
       "rows": [
        [
         "0",
         "BABY BANGLE",
         "BOMBAY",
         "22",
         "1.0-8.0",
         "15.0"
        ],
        [
         "3",
         "BABY BANGLE",
         "BOMBAY_SL",
         "22",
         "1.5-9.0",
         "15.0"
        ],
        [
         "6",
         "GOLD RING",
         "DELHI",
         "18",
         "0.5-4.0",
         "12.5"
        ],
        [
         "9",
         "GOLD RING",
         "DELHI_SL",
         "18",
         "0.6-4.5",
         "12.5"
        ]
       ],
       "shape": {
        "columns": 5,
        "rows": 4
       }
      },
      "text/html": [
       "<div>\n",
       "<style scoped>\n",
       "    .dataframe tbody tr th:only-of-type {\n",
       "        vertical-align: middle;\n",
       "    }\n",
       "\n",
       "    .dataframe tbody tr th {\n",
       "        vertical-align: top;\n",
       "    }\n",
       "\n",
       "    .dataframe thead th {\n",
       "        text-align: right;\n",
       "    }\n",
       "</style>\n",
       "<table border=\"1\" class=\"dataframe\">\n",
       "  <thead>\n",
       "    <tr style=\"text-align: right;\">\n",
       "      <th></th>\n",
       "      <th>item_name</th>\n",
       "      <th>item_category</th>\n",
       "      <th>purity</th>\n",
       "      <th>weight</th>\n",
       "      <th>wadtage</th>\n",
       "    </tr>\n",
       "  </thead>\n",
       "  <tbody>\n",
       "    <tr>\n",
       "      <th>0</th>\n",
       "      <td>BABY BANGLE</td>\n",
       "      <td>BOMBAY</td>\n",
       "      <td>22</td>\n",
       "      <td>1.0-8.0</td>\n",
       "      <td>15.0</td>\n",
       "    </tr>\n",
       "    <tr>\n",
       "      <th>3</th>\n",
       "      <td>BABY BANGLE</td>\n",
       "      <td>BOMBAY_SL</td>\n",
       "      <td>22</td>\n",
       "      <td>1.5-9.0</td>\n",
       "      <td>15.0</td>\n",
       "    </tr>\n",
       "    <tr>\n",
       "      <th>6</th>\n",
       "      <td>GOLD RING</td>\n",
       "      <td>DELHI</td>\n",
       "      <td>18</td>\n",
       "      <td>0.5-4.0</td>\n",
       "      <td>12.5</td>\n",
       "    </tr>\n",
       "    <tr>\n",
       "      <th>9</th>\n",
       "      <td>GOLD RING</td>\n",
       "      <td>DELHI_SL</td>\n",
       "      <td>18</td>\n",
       "      <td>0.6-4.5</td>\n",
       "      <td>12.5</td>\n",
       "    </tr>\n",
       "  </tbody>\n",
       "</table>\n",
       "</div>"
      ],
      "text/plain": [
       "     item_name item_category  purity   weight  wadtage\n",
       "0  BABY BANGLE        BOMBAY      22  1.0-8.0     15.0\n",
       "3  BABY BANGLE     BOMBAY_SL      22  1.5-9.0     15.0\n",
       "6    GOLD RING         DELHI      18  0.5-4.0     12.5\n",
       "9    GOLD RING      DELHI_SL      18  0.6-4.5     12.5"
      ]
     },
     "execution_count": 95,
     "metadata": {},
     "output_type": "execute_result"
    }
   ],
   "source": [
    "df"
   ]
  }
 ],
 "metadata": {
  "kernelspec": {
   "display_name": "Python 3",
   "language": "python",
   "name": "python3"
  },
  "language_info": {
   "codemirror_mode": {
    "name": "ipython",
    "version": 3
   },
   "file_extension": ".py",
   "mimetype": "text/x-python",
   "name": "python",
   "nbconvert_exporter": "python",
   "pygments_lexer": "ipython3",
   "version": "3.12.0"
  }
 },
 "nbformat": 4,
 "nbformat_minor": 5
}
